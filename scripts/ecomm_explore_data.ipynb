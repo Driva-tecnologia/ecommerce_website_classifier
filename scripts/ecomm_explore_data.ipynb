{
 "cells": [
  {
   "cell_type": "code",
   "execution_count": 1,
   "metadata": {},
   "outputs": [],
   "source": [
    "import pandas as pd\n",
    "import pprint\n",
    "from bs4 import BeautifulSoup\n",
    "from pyspark.sql import SparkSession\n",
    "from pyspark import SparkConf\n",
    "from pyspark.sql.functions import col\n",
    "from pyspark.sql.functions import udf, struct\n",
    "from pyspark.sql.types import FloatType, BooleanType, StructField, StructType, DoubleType, ArrayType\n",
    "import pickle\n",
    "import math\n",
    "import time\n",
    "\n",
    "import os\n",
    "from dotenv import load_dotenv\n",
    "load_dotenv()\n",
    "\n",
    "AWS_ENDPOINT_URL = os.getenv('AWS_ENDPOINT_URL')\n",
    "AWS_ACCESS_KEY = os.getenv('AWS_ACCESS_KEY')\n",
    "AWS_SECRET_KEY = os.getenv('AWS_SECRET_KEY')"
   ]
  },
  {
   "cell_type": "code",
   "execution_count": 2,
   "metadata": {},
   "outputs": [
    {
     "name": "stdout",
     "output_type": "stream",
     "text": [
      ":: loading settings :: url = jar:file:/home/darrazao/git/accounting_website_classifier/venv/lib/python3.10/site-packages/pyspark/jars/ivy-2.5.1.jar!/org/apache/ivy/core/settings/ivysettings.xml\n"
     ]
    },
    {
     "name": "stderr",
     "output_type": "stream",
     "text": [
      "Ivy Default Cache set to: /home/darrazao/.ivy2/cache\n",
      "The jars for the packages stored in: /home/darrazao/.ivy2/jars\n",
      "org.apache.hadoop#hadoop-aws added as a dependency\n",
      ":: resolving dependencies :: org.apache.spark#spark-submit-parent-14f9ab8c-d601-4a87-935e-b1b141e919dd;1.0\n",
      "\tconfs: [default]\n",
      "\tfound org.apache.hadoop#hadoop-aws;3.2.2 in central\n",
      "\tfound com.amazonaws#aws-java-sdk-bundle;1.11.563 in central\n",
      ":: resolution report :: resolve 171ms :: artifacts dl 7ms\n",
      "\t:: modules in use:\n",
      "\tcom.amazonaws#aws-java-sdk-bundle;1.11.563 from central in [default]\n",
      "\torg.apache.hadoop#hadoop-aws;3.2.2 from central in [default]\n",
      "\t---------------------------------------------------------------------\n",
      "\t|                  |            modules            ||   artifacts   |\n",
      "\t|       conf       | number| search|dwnlded|evicted|| number|dwnlded|\n",
      "\t---------------------------------------------------------------------\n",
      "\t|      default     |   2   |   0   |   0   |   0   ||   2   |   0   |\n",
      "\t---------------------------------------------------------------------\n",
      ":: retrieving :: org.apache.spark#spark-submit-parent-14f9ab8c-d601-4a87-935e-b1b141e919dd\n",
      "\tconfs: [default]\n",
      "\t0 artifacts copied, 2 already retrieved (0kB/7ms)\n",
      "24/06/26 17:00:26 WARN NativeCodeLoader: Unable to load native-hadoop library for your platform... using builtin-java classes where applicable\n",
      "Setting default log level to \"WARN\".\n",
      "To adjust logging level use sc.setLogLevel(newLevel). For SparkR, use setLogLevel(newLevel).\n",
      "24/06/26 17:00:27 WARN Utils: Service 'SparkUI' could not bind on port 4040. Attempting port 4041.\n"
     ]
    }
   ],
   "source": [
    "conf = SparkConf().setAppName(\"Spark com S3\").setMaster(\"local[*]\")\n",
    "\n",
    "conf.set(\"spark.driver.memory\", \"70g\")\n",
    "conf.set(\"spark.executor.memory\", \"70g\")\n",
    "conf.set(\"spark.executor.pyspark.memory\", \"70g\")\n",
    "\n",
    "# conf.set(\"spark.driver.cores\", \"20\")\n",
    "# conf.set(\"spark.executor.cores\", \"20\")\n",
    "\n",
    "# conf.set(\"spark.memory.offHeap.enabled\", \"true\")\n",
    "# conf.set(\"spark.memory.offHeap.size\", \"20g\")\n",
    "\n",
    "# conf.set(\"spark.sql.shuffle.partitions\", \"2000\")\n",
    "# conf.set(\"spark.sql.parquet.columnarReaderBatchSize\", \"2048\") \n",
    "conf.set(\"spark.sql.parquet.enableVectorizedReader\", \"false\")\n",
    "conf.set(\"spark.sql.execution.arrow.pyspark.enabled\", \"true\")\n",
    "conf.set(\"spark.sql.repl.eagerEval.enabled\", \"true\")\n",
    "conf.set(\"spark.sql.repl.eagerEval.truncate\", 100)\n",
    "\n",
    "conf.set(\"spark.hadoop.fs.s3a.access.key\", AWS_ACCESS_KEY)\n",
    "conf.set(\"spark.hadoop.fs.s3a.secret.key\", AWS_SECRET_KEY)\n",
    "conf.set(\"spark.hadoop.fs.s3a.endpoint\", AWS_ENDPOINT_URL)\n",
    "conf.set(\"spark.hadoop.fs.s3a.impl\", \"org.apache.hadoop.fs.s3a.S3AFileSystem\")\n",
    "conf.set(\"spark.jars.packages\", \"org.apache.hadoop:hadoop-aws:3.2.2\")\n",
    "conf.set(\"spark.hadoop.fs.s3a.aws.credentials.provider\", \"org.apache.hadoop.fs.s3a.SimpleAWSCredentialsProvider\")\n",
    "\n",
    "spark = SparkSession.builder.config(conf=conf).getOrCreate()"
   ]
  },
  {
   "cell_type": "code",
   "execution_count": null,
   "metadata": {},
   "outputs": [
    {
     "name": "stderr",
     "output_type": "stream",
     "text": [
      "                                                                                \r"
     ]
    }
   ],
   "source": [
    "df_ecomm = spark.read.parquet('../data/countries_filtered_with_predictions')"
   ]
  },
  {
   "cell_type": "code",
   "execution_count": 4,
   "metadata": {},
   "outputs": [
    {
     "name": "stdout",
     "output_type": "stream",
     "text": [
      "root\n",
      " |-- domain: string (nullable = true)\n",
      " |-- html: string (nullable = true)\n",
      " |-- probability: double (nullable = true)\n",
      " |-- prediction: boolean (nullable = true)\n",
      "\n"
     ]
    }
   ],
   "source": [
    "df_ecomm.printSchema()"
   ]
  },
  {
   "cell_type": "code",
   "execution_count": 5,
   "metadata": {},
   "outputs": [
    {
     "name": "stderr",
     "output_type": "stream",
     "text": [
      "                                                                                \r"
     ]
    },
    {
     "data": {
      "text/plain": [
       "2823779"
      ]
     },
     "execution_count": 5,
     "metadata": {},
     "output_type": "execute_result"
    }
   ],
   "source": [
    "df_ecomm.count() # 2.823.779"
   ]
  },
  {
   "cell_type": "code",
   "execution_count": 6,
   "metadata": {},
   "outputs": [],
   "source": [
    "# df_ecomm = df_ecomm.drop_duplicates()\n",
    "# df_ecomm.count() # 2.823.779 -> 2.823.774\n",
    "# 2.823.774"
   ]
  },
  {
   "cell_type": "code",
   "execution_count": 7,
   "metadata": {},
   "outputs": [],
   "source": [
    "value_counts_df = df_ecomm.groupBy('prediction').count()"
   ]
  },
  {
   "cell_type": "code",
   "execution_count": 8,
   "metadata": {},
   "outputs": [
    {
     "name": "stderr",
     "output_type": "stream",
     "text": [
      "                                                                                \r"
     ]
    },
    {
     "name": "stdout",
     "output_type": "stream",
     "text": [
      "+----------+-------+\n",
      "|prediction|  count|\n",
      "+----------+-------+\n",
      "|      true| 400262|\n",
      "|     false|2423517|\n",
      "+----------+-------+\n",
      "\n"
     ]
    }
   ],
   "source": [
    "value_counts_df.show()\n",
    "# +----------+-------+\n",
    "# |prediction|  count|\n",
    "# +----------+-------+\n",
    "# |      true| 283897|\n",
    "# |     false|2539882|\n",
    "# +----------+-------+\n",
    "\n",
    "# +----------+-------+\n",
    "# |prediction|  count|\n",
    "# +----------+-------+\n",
    "# |      true| 400261|\n",
    "# |     false|2423513|\n",
    "# +----------+-------+"
   ]
  },
  {
   "cell_type": "code",
   "execution_count": 9,
   "metadata": {},
   "outputs": [],
   "source": [
    "df_filtered = df_ecomm.filter(df_ecomm.prediction == True)"
   ]
  },
  {
   "cell_type": "code",
   "execution_count": null,
   "metadata": {},
   "outputs": [
    {
     "name": "stderr",
     "output_type": "stream",
     "text": [
      "24/06/26 17:01:25 WARN InternalParquetRecordWriter: Too much memory used: Store {\n",
      " [domain] optional binary domain (STRING) {\n",
      "  r:0 bytes\n",
      "  d:0 bytes\n",
      "   data: FallbackValuesWriter{\n",
      "   data: initial: DictionaryValuesWriter{\n",
      "   data: initial: dict:2279\n",
      "   data: initial: values:392\n",
      "   data: initial:}\n",
      "\n",
      "   data: fallback: PLAIN CapacityByteArrayOutputStream 0 slabs, 0 bytes\n",
      "   data:}\n",
      "\n",
      "   pages: ColumnChunkPageWriter ConcatenatingByteArrayCollector 0 slabs, 0 bytes\n",
      "   total: 2,337/2,671\n",
      " }\n",
      " [html] optional binary html (STRING) {\n",
      "  r:0 bytes\n",
      "  d:0 bytes\n",
      "   data: FallbackValuesWriter{\n",
      "   data: initial: DictionaryValuesWriter{\n",
      "   data: initial: dict:0\n",
      "   data: initial: values:0\n",
      "   data: initial:}\n",
      "\n",
      "   data: fallback: PLAIN CapacityByteArrayOutputStream 87 slabs, 786,818,990 bytes\n",
      "   data:}\n",
      "\n",
      "   pages: ColumnChunkPageWriter ConcatenatingByteArrayCollector 0 slabs, 0 bytes\n",
      "   total: 786,699,968/786,818,990\n",
      " }\n",
      " [prediction] optional boolean prediction {\n",
      "  r:0 bytes\n",
      "  d:0 bytes\n",
      "   data: ByteBitPacking 0 slabs, 1056 bytes\n",
      "   pages: ColumnChunkPageWriter ConcatenatingByteArrayCollector 0 slabs, 0 bytes\n",
      "   total: 13/1,056\n",
      " }\n",
      " [probability] optional double probability {\n",
      "  r:0 bytes\n",
      "  d:0 bytes\n",
      "   data: FallbackValuesWriter{\n",
      "   data: initial: DictionaryValuesWriter{\n",
      "   data: initial: dict:776\n",
      "   data: initial: values:392\n",
      "   data: initial:}\n",
      "\n",
      "   data: fallback: PLAIN CapacityByteArrayOutputStream 0 slabs, 0 bytes\n",
      "   data:}\n",
      "\n",
      "   pages: ColumnChunkPageWriter ConcatenatingByteArrayCollector 0 slabs, 0 bytes\n",
      "   total: 784/1,168\n",
      " }\n",
      "}\n",
      "\n",
      "                                                                                \r"
     ]
    }
   ],
   "source": [
    "file_path = '../data/countries_filtered_true_predictions'\n",
    "df_filtered.write.parquet(file_path, mode='overwrite')"
   ]
  },
  {
   "cell_type": "code",
   "execution_count": 11,
   "metadata": {},
   "outputs": [
    {
     "name": "stderr",
     "output_type": "stream",
     "text": [
      "                                                                                \r"
     ]
    },
    {
     "name": "stdout",
     "output_type": "stream",
     "text": [
      "+--------------------+--------------------+------------------+----------+\n",
      "|              domain|                html|       probability|prediction|\n",
      "+--------------------+--------------------+------------------+----------+\n",
      "|rosalianazareth.c...|\\r\\n\\r\\n\\r\\n<!DOC...|0.5822495765579052|      true|\n",
      "| rosanessence.com.br|<!DOCTYPE html>\\n...|0.5174181802464494|      true|\n",
      "|rosiatacadodaling...|﻿\\r\\n<!DOCTYPE ht...|0.8780214533141218|      true|\n",
      "|rotulooficial.com.br|\\n<!DOCTYPE html>...|0.9058691906324399|      true|\n",
      "|     rvmoveis.com.br|<!DOCTYPE html>\\n...|0.6218398505033171|      true|\n",
      "|        altai.com.br|<!doctype html>\\n...|0.8942354234584148|      true|\n",
      "|alternativafotopr...|<!DOCTYPE html>\\n...|0.9292447633072041|      true|\n",
      "|alumiareducacao.c...|<!DOCTYPE html><h...|0.8060824719290467|      true|\n",
      "|aluminioglobo.com.br|  <!DOCTYPE html>...|0.5912571962045025|      true|\n",
      "|     alvartes.com.br|\\t<!DOCTYPE html>...|0.8233993621603585|      true|\n",
      "| amarelostore.com.br|<!doctype html><h...|0.9452124790798825|      true|\n",
      "|amazonasrefrilar....|<!DOCTYPE html>\\r...|0.7487155967496845|      true|\n",
      "|americansportshop...|\\r\\n\\r\\n\\r\\n\\r\\n\\...|0.8645564201250153|      true|\n",
      "|    ammojoias.com.br|<!DOCTYPE html>\\n...|0.8014901120487763|      true|\n",
      "|amorelielingerie....|﻿\\r\\n<!DOCTYPE ht...|  0.79768089337851|      true|\n",
      "|   blckbrasil.com.br|<!doctype html>\\n...|0.8837451925026655|      true|\n",
      "|        blixt.com.br|<!DOCTYPE html> <...|0.7804933301990222|      true|\n",
      "|     blopavel.com.br|\\n\\n<!doctype htm...|0.5852477929068782|      true|\n",
      "|     bmmarket.com.br|<!DOCTYPE html>\\n...| 0.754830918829081|      true|\n",
      "|         bona.ind.br|<!DOCTYPE html>\\n...|0.9586072764618981|      true|\n",
      "+--------------------+--------------------+------------------+----------+\n",
      "only showing top 20 rows\n",
      "\n"
     ]
    }
   ],
   "source": [
    "df_filtered.show()"
   ]
  },
  {
   "cell_type": "code",
   "execution_count": 11,
   "metadata": {},
   "outputs": [],
   "source": [
    "df_true_ecomm_smaller = df_filtered.select('domain', 'probability')"
   ]
  },
  {
   "cell_type": "code",
   "execution_count": 12,
   "metadata": {},
   "outputs": [
    {
     "name": "stderr",
     "output_type": "stream",
     "text": [
      "                                                                                \r"
     ]
    },
    {
     "data": {
      "text/plain": [
       "400262"
      ]
     },
     "execution_count": 12,
     "metadata": {},
     "output_type": "execute_result"
    }
   ],
   "source": [
    "df_true_ecomm_smaller.count()"
   ]
  },
  {
   "cell_type": "code",
   "execution_count": 18,
   "metadata": {},
   "outputs": [],
   "source": [
    "from pyspark.sql.functions import col, max\n",
    "\n",
    "df = df_true_ecomm_smaller.withColumn(\"probability\", col(\"probability\").cast(\"float\"))\n",
    "\n",
    "# Encontrar a probabilidade máxima para cada domínio\n",
    "max_prob_df = df.groupBy(\"domain\").agg(max(col(\"probability\")).alias(\"max_probability\"))\n",
    "\n",
    "# Usar alias para os DataFrames\n",
    "df_alias = df.alias(\"df\")\n",
    "max_prob_df_alias = max_prob_df.alias(\"max_prob_df\")\n",
    "\n",
    "# Juntar o DataFrame original com o DataFrame de probabilidades máximas\n",
    "result_df = df_alias.join(\n",
    "    max_prob_df_alias, \n",
    "    (df_alias[\"domain\"] == max_prob_df_alias[\"domain\"]) & (df_alias[\"probability\"] == max_prob_df_alias[\"max_probability\"])\n",
    ").select(df_alias[\"domain\"], df_alias[\"probability\"])"
   ]
  },
  {
   "cell_type": "code",
   "execution_count": 22,
   "metadata": {},
   "outputs": [
    {
     "name": "stderr",
     "output_type": "stream",
     "text": [
      "                                                                                \r"
     ]
    },
    {
     "data": {
      "text/plain": [
       "357297"
      ]
     },
     "execution_count": 22,
     "metadata": {},
     "output_type": "execute_result"
    }
   ],
   "source": [
    "result_df.count()"
   ]
  },
  {
   "cell_type": "code",
   "execution_count": 21,
   "metadata": {},
   "outputs": [
    {
     "name": "stderr",
     "output_type": "stream",
     "text": [
      "                                                                                \r"
     ]
    },
    {
     "name": "stdout",
     "output_type": "stream",
     "text": [
      "+--------------------+-----------+\n",
      "|              domain|probability|\n",
      "+--------------------+-----------+\n",
      "|   rvicapital.com.br| 0.71908313|\n",
      "|rotulooficial.com.br| 0.99449414|\n",
      "|alvoradaimoveis.i...|  0.8781451|\n",
      "|ruysantosimoveis....|   0.803302|\n",
      "| rosanessence.com.br| 0.82560474|\n",
      "|        altai.com.br| 0.99179375|\n",
      "|   ruidorosa.blog.br|  0.5045915|\n",
      "|rosalianazareth.c...|  0.9682496|\n",
      "|rosiatacadodaling...|  0.8256773|\n",
      "|    ammojoias.com.br| 0.96852535|\n",
      "|     alvartes.com.br| 0.99222636|\n",
      "| amarelostore.com.br|  0.9992821|\n",
      "|   amodecorar.com.br| 0.75037354|\n",
      "|amorelielingerie....| 0.56768394|\n",
      "|aluminioglobo.com.br|  0.7200637|\n",
      "|americansportshop...|  0.9993049|\n",
      "|   aluguenote.com.br|  0.6484361|\n",
      "|   aluguenote.com.br|  0.6484361|\n",
      "|        rprai.com.br| 0.79970986|\n",
      "|   altasdicas.com.br| 0.55912626|\n",
      "+--------------------+-----------+\n",
      "only showing top 20 rows\n",
      "\n"
     ]
    }
   ],
   "source": [
    "result_df.show()"
   ]
  },
  {
   "cell_type": "code",
   "execution_count": 23,
   "metadata": {},
   "outputs": [
    {
     "name": "stderr",
     "output_type": "stream",
     "text": [
      "                                                                                \r"
     ]
    }
   ],
   "source": [
    "df_true_ecomm_smaller.write.mode(\"overwrite\").save('s3a://drivalake/sites/silver/ecomm_true_predictions_simple_v2/')"
   ]
  },
  {
   "cell_type": "code",
   "execution_count": 24,
   "metadata": {},
   "outputs": [],
   "source": [
    "spark.stop()"
   ]
  },
  {
   "cell_type": "code",
   "execution_count": null,
   "metadata": {},
   "outputs": [
    {
     "name": "stderr",
     "output_type": "stream",
     "text": [
      "                                                                                \r"
     ]
    }
   ],
   "source": [
    "# df_true_ecomm = spark.read.parquet('./data/countries_filtered_true_predictions')"
   ]
  },
  {
   "cell_type": "code",
   "execution_count": null,
   "metadata": {},
   "outputs": [
    {
     "name": "stderr",
     "output_type": "stream",
     "text": [
      "                                                                                \r"
     ]
    },
    {
     "data": {
      "text/plain": [
       "283897"
      ]
     },
     "metadata": {},
     "output_type": "display_data"
    }
   ],
   "source": [
    "# df_true_ecomm.count()"
   ]
  },
  {
   "cell_type": "code",
   "execution_count": null,
   "metadata": {},
   "outputs": [
    {
     "name": "stderr",
     "output_type": "stream",
     "text": [
      "24/06/14 20:46:03 WARN MetricsConfig: Cannot locate configuration: tried hadoop-metrics2-s3a-file-system.properties,hadoop-metrics2.properties\n"
     ]
    },
    {
     "name": "stderr",
     "output_type": "stream",
     "text": [
      "                                                                                \r"
     ]
    }
   ],
   "source": [
    "# df_true_ecomm.write.mode(\"overwrite\").save('s3a://drivalake/sites/silver/ecomm_true_predictions/')"
   ]
  },
  {
   "cell_type": "code",
   "execution_count": null,
   "metadata": {},
   "outputs": [],
   "source": [
    "# spark.stop()"
   ]
  }
 ],
 "metadata": {
  "kernelspec": {
   "display_name": "Python 3",
   "language": "python",
   "name": "python3"
  },
  "language_info": {
   "codemirror_mode": {
    "name": "ipython",
    "version": 3
   },
   "file_extension": ".py",
   "mimetype": "text/x-python",
   "name": "python",
   "nbconvert_exporter": "python",
   "pygments_lexer": "ipython3",
   "version": "3.10.12"
  }
 },
 "nbformat": 4,
 "nbformat_minor": 2
}
