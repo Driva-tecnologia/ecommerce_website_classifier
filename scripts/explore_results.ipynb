{
 "cells": [
  {
   "cell_type": "code",
   "execution_count": 1,
   "metadata": {},
   "outputs": [],
   "source": [
    "import pandas as pd\n",
    "import pprint\n",
    "from bs4 import BeautifulSoup\n",
    "from pyspark.sql import SparkSession\n",
    "from pyspark import SparkConf\n",
    "from pyspark.sql.functions import col\n",
    "from pyspark.sql.functions import udf, struct\n",
    "from pyspark.sql.types import FloatType, BooleanType, StructField, StructType, DoubleType, ArrayType\n",
    "import pickle\n",
    "import math\n",
    "import time\n",
    "\n",
    "import os\n",
    "from dotenv import load_dotenv\n",
    "load_dotenv()\n",
    "\n",
    "AWS_ENDPOINT_URL = os.getenv('AWS_ENDPOINT_URL')\n",
    "AWS_ACCESS_KEY = os.getenv('AWS_ACCESS_KEY')\n",
    "AWS_SECRET_KEY = os.getenv('AWS_SECRET_KEY')"
   ]
  },
  {
   "cell_type": "code",
   "execution_count": 2,
   "metadata": {},
   "outputs": [
    {
     "name": "stderr",
     "output_type": "stream",
     "text": [
      "24/07/12 13:21:04 WARN Utils: Your hostname, titan resolves to a loopback address: 127.0.1.1; using 139.99.60.146 instead (on interface eno1)\n",
      "24/07/12 13:21:04 WARN Utils: Set SPARK_LOCAL_IP if you need to bind to another address\n"
     ]
    },
    {
     "name": "stdout",
     "output_type": "stream",
     "text": [
      ":: loading settings :: url = jar:file:/home/xavier/.venv/lib/python3.10/site-packages/pyspark/jars/ivy-2.5.1.jar!/org/apache/ivy/core/settings/ivysettings.xml\n"
     ]
    },
    {
     "name": "stderr",
     "output_type": "stream",
     "text": [
      "Ivy Default Cache set to: /home/xavier/.ivy2/cache\n",
      "The jars for the packages stored in: /home/xavier/.ivy2/jars\n",
      "org.apache.hadoop#hadoop-aws added as a dependency\n",
      ":: resolving dependencies :: org.apache.spark#spark-submit-parent-c6c915a4-8820-44da-90f0-2045ddcd3c61;1.0\n",
      "\tconfs: [default]\n",
      "\tfound org.apache.hadoop#hadoop-aws;3.2.2 in central\n",
      "\tfound com.amazonaws#aws-java-sdk-bundle;1.11.563 in central\n",
      ":: resolution report :: resolve 332ms :: artifacts dl 9ms\n",
      "\t:: modules in use:\n",
      "\tcom.amazonaws#aws-java-sdk-bundle;1.11.563 from central in [default]\n",
      "\torg.apache.hadoop#hadoop-aws;3.2.2 from central in [default]\n",
      "\t---------------------------------------------------------------------\n",
      "\t|                  |            modules            ||   artifacts   |\n",
      "\t|       conf       | number| search|dwnlded|evicted|| number|dwnlded|\n",
      "\t---------------------------------------------------------------------\n",
      "\t|      default     |   2   |   0   |   0   |   0   ||   2   |   0   |\n",
      "\t---------------------------------------------------------------------\n",
      ":: retrieving :: org.apache.spark#spark-submit-parent-c6c915a4-8820-44da-90f0-2045ddcd3c61\n",
      "\tconfs: [default]\n",
      "\t0 artifacts copied, 2 already retrieved (0kB/13ms)\n",
      "24/07/12 13:21:06 WARN NativeCodeLoader: Unable to load native-hadoop library for your platform... using builtin-java classes where applicable\n",
      "Setting default log level to \"WARN\".\n",
      "To adjust logging level use sc.setLogLevel(newLevel). For SparkR, use setLogLevel(newLevel).\n",
      "24/07/12 13:21:08 WARN Utils: Service 'SparkUI' could not bind on port 4040. Attempting port 4041.\n"
     ]
    }
   ],
   "source": [
    "conf = SparkConf().setAppName(\"Spark com S3\").setMaster(\"local[*]\")\n",
    "\n",
    "conf.set(\"spark.driver.memory\", \"70g\")\n",
    "conf.set(\"spark.executor.memory\", \"70g\")\n",
    "conf.set(\"spark.executor.pyspark.memory\", \"70g\")\n",
    "\n",
    "# conf.set(\"spark.driver.cores\", \"20\")\n",
    "# conf.set(\"spark.executor.cores\", \"20\")\n",
    "\n",
    "# conf.set(\"spark.memory.offHeap.enabled\", \"true\")\n",
    "# conf.set(\"spark.memory.offHeap.size\", \"20g\")\n",
    "\n",
    "# conf.set(\"spark.sql.shuffle.partitions\", \"2000\")\n",
    "# conf.set(\"spark.sql.parquet.columnarReaderBatchSize\", \"2048\") \n",
    "conf.set(\"spark.sql.parquet.enableVectorizedReader\", \"false\")\n",
    "conf.set(\"spark.sql.execution.arrow.pyspark.enabled\", \"true\")\n",
    "conf.set(\"spark.sql.repl.eagerEval.enabled\", \"true\")\n",
    "conf.set(\"spark.sql.repl.eagerEval.truncate\", 100)\n",
    "\n",
    "conf.set(\"spark.hadoop.fs.s3a.access.key\", AWS_ACCESS_KEY)\n",
    "conf.set(\"spark.hadoop.fs.s3a.secret.key\", AWS_SECRET_KEY)\n",
    "conf.set(\"spark.hadoop.fs.s3a.endpoint\", AWS_ENDPOINT_URL)\n",
    "conf.set(\"spark.hadoop.fs.s3a.impl\", \"org.apache.hadoop.fs.s3a.S3AFileSystem\")\n",
    "conf.set(\"spark.jars.packages\", \"org.apache.hadoop:hadoop-aws:3.2.2\")\n",
    "conf.set(\"spark.hadoop.fs.s3a.aws.credentials.provider\", \"org.apache.hadoop.fs.s3a.SimpleAWSCredentialsProvider\")\n",
    "\n",
    "spark = SparkSession.builder.config(conf=conf).getOrCreate()"
   ]
  },
  {
   "cell_type": "code",
   "execution_count": 3,
   "metadata": {},
   "outputs": [
    {
     "name": "stderr",
     "output_type": "stream",
     "text": [
      "                                                                                \r"
     ]
    }
   ],
   "source": [
    "df_results = spark.read.parquet('../data/ecommerce/ecommerce_technologies_v2') \n",
    "#df_sample_countries = spark.read.parquet(\"s3a://drivalake/sites/bronze/spiderwebv4/countries_*.parquet\")"
   ]
  },
  {
   "cell_type": "code",
   "execution_count": 5,
   "metadata": {},
   "outputs": [
    {
     "name": "stderr",
     "output_type": "stream",
     "text": [
      "                                                                                \r"
     ]
    },
    {
     "data": {
      "text/plain": [
       "109145"
      ]
     },
     "execution_count": 5,
     "metadata": {},
     "output_type": "execute_result"
    }
   ],
   "source": [
    "df_results.count()"
   ]
  },
  {
   "cell_type": "code",
   "execution_count": 11,
   "metadata": {},
   "outputs": [
    {
     "name": "stderr",
     "output_type": "stream",
     "text": [
      "[Stage 54:================================================>  (1065 + 40) / 1113]\r"
     ]
    },
    {
     "name": "stdout",
     "output_type": "stream",
     "text": [
      "Count of results with probability above 80%: 134606\n"
     ]
    },
    {
     "name": "stderr",
     "output_type": "stream",
     "text": [
      "                                                                                \r"
     ]
    }
   ],
   "source": [
    "# COM REPETIDOS\n",
    "count_above_80 = df_results[df_results['probability'] > 0.8].count()\n",
    "print(f\"Count of results with probability above 80%: {count_above_80}\")\n",
    "# acima de 80%: 167710\n",
    "# acima de 90%: 134606"
   ]
  },
  {
   "cell_type": "code",
   "execution_count": 6,
   "metadata": {},
   "outputs": [
    {
     "name": "stdout",
     "output_type": "stream",
     "text": [
      "(0.0, 0.1)\n",
      "sampling...\n",
      "filtering...\n",
      "counting...\n"
     ]
    },
    {
     "name": "stderr",
     "output_type": "stream",
     "text": [
      "                                                                                \r"
     ]
    },
    {
     "name": "stdout",
     "output_type": "stream",
     "text": [
      "sampling...\n",
      "limiting...\n",
      "converting...\n"
     ]
    },
    {
     "name": "stderr",
     "output_type": "stream",
     "text": [
      "                                                                                \r"
     ]
    },
    {
     "name": "stdout",
     "output_type": "stream",
     "text": [
      "concat...\n",
      "(0.1, 0.2)\n",
      "sampling...\n",
      "filtering...\n",
      "counting...\n"
     ]
    },
    {
     "name": "stderr",
     "output_type": "stream",
     "text": [
      "                                                                                \r"
     ]
    },
    {
     "name": "stdout",
     "output_type": "stream",
     "text": [
      "sampling...\n",
      "limiting...\n",
      "converting...\n"
     ]
    },
    {
     "name": "stderr",
     "output_type": "stream",
     "text": [
      "                                                                                \r"
     ]
    },
    {
     "name": "stdout",
     "output_type": "stream",
     "text": [
      "concat...\n",
      "(0.2, 0.3)\n",
      "sampling...\n",
      "filtering...\n",
      "counting...\n"
     ]
    },
    {
     "name": "stderr",
     "output_type": "stream",
     "text": [
      "                                                                                \r"
     ]
    },
    {
     "name": "stdout",
     "output_type": "stream",
     "text": [
      "sampling...\n",
      "limiting...\n",
      "converting...\n"
     ]
    },
    {
     "name": "stderr",
     "output_type": "stream",
     "text": [
      "                                                                                \r"
     ]
    },
    {
     "name": "stdout",
     "output_type": "stream",
     "text": [
      "concat...\n",
      "(0.3, 0.4)\n",
      "sampling...\n",
      "filtering...\n",
      "counting...\n"
     ]
    },
    {
     "name": "stderr",
     "output_type": "stream",
     "text": [
      "                                                                                \r"
     ]
    },
    {
     "name": "stdout",
     "output_type": "stream",
     "text": [
      "sampling...\n",
      "limiting...\n",
      "converting...\n"
     ]
    },
    {
     "name": "stderr",
     "output_type": "stream",
     "text": [
      "                                                                                \r"
     ]
    },
    {
     "name": "stdout",
     "output_type": "stream",
     "text": [
      "concat...\n",
      "(0.4, 0.5)\n",
      "sampling...\n",
      "filtering...\n",
      "counting...\n"
     ]
    },
    {
     "name": "stderr",
     "output_type": "stream",
     "text": [
      "                                                                                \r"
     ]
    },
    {
     "name": "stdout",
     "output_type": "stream",
     "text": [
      "sampling...\n",
      "limiting...\n",
      "converting...\n"
     ]
    },
    {
     "name": "stderr",
     "output_type": "stream",
     "text": [
      "                                                                                \r"
     ]
    },
    {
     "name": "stdout",
     "output_type": "stream",
     "text": [
      "concat...\n",
      "(0.5, 0.6)\n",
      "sampling...\n",
      "filtering...\n",
      "counting...\n"
     ]
    },
    {
     "name": "stderr",
     "output_type": "stream",
     "text": [
      "                                                                                \r"
     ]
    },
    {
     "name": "stdout",
     "output_type": "stream",
     "text": [
      "sampling...\n",
      "limiting...\n",
      "converting...\n"
     ]
    },
    {
     "name": "stderr",
     "output_type": "stream",
     "text": [
      "                                                                                \r"
     ]
    },
    {
     "name": "stdout",
     "output_type": "stream",
     "text": [
      "concat...\n",
      "(0.6, 0.7)\n",
      "sampling...\n",
      "filtering...\n",
      "counting...\n"
     ]
    },
    {
     "name": "stderr",
     "output_type": "stream",
     "text": [
      "                                                                                \r"
     ]
    },
    {
     "name": "stdout",
     "output_type": "stream",
     "text": [
      "sampling...\n",
      "limiting...\n",
      "converting...\n"
     ]
    },
    {
     "name": "stderr",
     "output_type": "stream",
     "text": [
      "                                                                                \r"
     ]
    },
    {
     "name": "stdout",
     "output_type": "stream",
     "text": [
      "concat...\n",
      "(0.7, 0.8)\n",
      "sampling...\n",
      "filtering...\n",
      "counting...\n"
     ]
    },
    {
     "name": "stderr",
     "output_type": "stream",
     "text": [
      "                                                                                \r"
     ]
    },
    {
     "name": "stdout",
     "output_type": "stream",
     "text": [
      "sampling...\n",
      "limiting...\n",
      "converting...\n"
     ]
    },
    {
     "name": "stderr",
     "output_type": "stream",
     "text": [
      "                                                                                \r"
     ]
    },
    {
     "name": "stdout",
     "output_type": "stream",
     "text": [
      "concat...\n",
      "(0.8, 0.9)\n",
      "sampling...\n",
      "filtering...\n",
      "counting...\n"
     ]
    },
    {
     "name": "stderr",
     "output_type": "stream",
     "text": [
      "                                                                                \r"
     ]
    },
    {
     "name": "stdout",
     "output_type": "stream",
     "text": [
      "sampling...\n",
      "limiting...\n",
      "converting...\n"
     ]
    },
    {
     "name": "stderr",
     "output_type": "stream",
     "text": [
      "                                                                                \r"
     ]
    },
    {
     "name": "stdout",
     "output_type": "stream",
     "text": [
      "concat...\n",
      "(0.9, 1.0)\n",
      "sampling...\n",
      "filtering...\n",
      "counting...\n"
     ]
    },
    {
     "name": "stderr",
     "output_type": "stream",
     "text": [
      "                                                                                \r"
     ]
    },
    {
     "name": "stdout",
     "output_type": "stream",
     "text": [
      "sampling...\n",
      "limiting...\n",
      "converting...\n"
     ]
    },
    {
     "name": "stderr",
     "output_type": "stream",
     "text": [
      "[Stage 49:===================================================>(1110 + 3) / 1113]\r"
     ]
    },
    {
     "name": "stdout",
     "output_type": "stream",
     "text": [
      "concat...\n"
     ]
    },
    {
     "name": "stderr",
     "output_type": "stream",
     "text": [
      "                                                                                \r"
     ]
    }
   ],
   "source": [
    "import pyspark.sql.functions as F\n",
    "\n",
    "def get_sample(df, sample_size, seed, interval_start, interval_end):\n",
    "    print('filtering...')\n",
    "    df = df.filter(F.col('probability').between(interval_start, interval_end))\n",
    "    print('counting...')\n",
    "    count = df.count()\n",
    "    if count > sample_size:\n",
    "        fraction = sample_size / count\n",
    "        print('sampling...')\n",
    "        df_sample = df.sample(withReplacement=False, fraction=fraction * 1.5, seed=seed)  \n",
    "        print('limiting...')\n",
    "        df_sample = df_sample.limit(sample_size)\n",
    "    else:\n",
    "        df_sample = df\n",
    "    return df_sample\n",
    "\n",
    "intervals = [\n",
    "    (0.0, 0.1),\n",
    "    (0.1, 0.2),\n",
    "    (0.2, 0.3),\n",
    "    (0.3, 0.4),\n",
    "    (0.4, 0.5),\n",
    "    (0.5, 0.6),\n",
    "    (0.6, 0.7),\n",
    "    (0.7, 0.8),\n",
    "    (0.8, 0.9),\n",
    "    (0.9, 1.0)\n",
    "]\n",
    "\n",
    "df_final = pd.DataFrame()\n",
    "sample_size = 10\n",
    "seed = 42\n",
    "\n",
    "for interval in intervals:\n",
    "    print(interval)\n",
    "    inicio, fim = interval\n",
    "    print('sampling...')\n",
    "    subset = get_sample(df_results, sample_size, seed, inicio, fim)\n",
    "    print('converting...')\n",
    "    subset_pd = subset.toPandas()\n",
    "    print('concat...')\n",
    "    df_final = pd.concat([df_final, subset_pd])"
   ]
  },
  {
   "cell_type": "code",
   "execution_count": 7,
   "metadata": {},
   "outputs": [],
   "source": [
    "df_final = df_final.sort_values(by='probability', ascending=False)"
   ]
  },
  {
   "cell_type": "code",
   "execution_count": 9,
   "metadata": {},
   "outputs": [
    {
     "data": {
      "text/html": [
       "<div>\n",
       "<style scoped>\n",
       "    .dataframe tbody tr th:only-of-type {\n",
       "        vertical-align: middle;\n",
       "    }\n",
       "\n",
       "    .dataframe tbody tr th {\n",
       "        vertical-align: top;\n",
       "    }\n",
       "\n",
       "    .dataframe thead th {\n",
       "        text-align: right;\n",
       "    }\n",
       "</style>\n",
       "<table border=\"1\" class=\"dataframe\">\n",
       "  <thead>\n",
       "    <tr style=\"text-align: right;\">\n",
       "      <th></th>\n",
       "      <th>domain</th>\n",
       "      <th>html</th>\n",
       "      <th>probability</th>\n",
       "      <th>prediction</th>\n",
       "    </tr>\n",
       "  </thead>\n",
       "  <tbody>\n",
       "    <tr>\n",
       "      <th>9</th>\n",
       "      <td>mawebotanic.com.br</td>\n",
       "      <td>&lt;!DOCTYPE html&gt;\\n&lt;html lang=\"pt\"&gt;\\n&lt;head&gt;\\n  \\...</td>\n",
       "      <td>0.996031</td>\n",
       "      <td>True</td>\n",
       "    </tr>\n",
       "    <tr>\n",
       "      <th>0</th>\n",
       "      <td>renovaloja.com.br</td>\n",
       "      <td>&lt;!DOCTYPE html&gt;\\n&lt;html lang=\"pt-BR\"&gt;\\n&lt;head&gt;\\n...</td>\n",
       "      <td>0.993446</td>\n",
       "      <td>True</td>\n",
       "    </tr>\n",
       "    <tr>\n",
       "      <th>7</th>\n",
       "      <td>forteplastembalagens.com.br</td>\n",
       "      <td>&lt;!doctype html&gt;&lt;html data-theme=\"\" data-store=...</td>\n",
       "      <td>0.989294</td>\n",
       "      <td>True</td>\n",
       "    </tr>\n",
       "    <tr>\n",
       "      <th>6</th>\n",
       "      <td>lavanderiavitoria.com.br</td>\n",
       "      <td>&lt;!doctype html&gt;&lt;html data-theme=\"177\" data-sto...</td>\n",
       "      <td>0.979964</td>\n",
       "      <td>True</td>\n",
       "    </tr>\n",
       "    <tr>\n",
       "      <th>2</th>\n",
       "      <td>lupdigital.com.br</td>\n",
       "      <td>&lt;!DOCTYPE html&gt;\\n&lt;html lang=\"pt-BR\"&gt;\\n&lt;head&gt;\\n...</td>\n",
       "      <td>0.977565</td>\n",
       "      <td>True</td>\n",
       "    </tr>\n",
       "    <tr>\n",
       "      <th>4</th>\n",
       "      <td>arbuini.com.br</td>\n",
       "      <td>\\n&lt;!DOCTYPE html&gt;\\n&lt;html lang=\"pt-BR\"&gt;\\n&lt;head&gt;...</td>\n",
       "      <td>0.970242</td>\n",
       "      <td>True</td>\n",
       "    </tr>\n",
       "    <tr>\n",
       "      <th>3</th>\n",
       "      <td>augeeletro.com.br</td>\n",
       "      <td>&lt;!DOCTYPE html&gt;\\n&lt;!--[if IE]&gt;&lt;![endif]--&gt;\\n&lt;!-...</td>\n",
       "      <td>0.964615</td>\n",
       "      <td>True</td>\n",
       "    </tr>\n",
       "    <tr>\n",
       "      <th>8</th>\n",
       "      <td>santosete.com.br</td>\n",
       "      <td>&lt;!DOCTYPE html&gt;\\n&lt;!--[if IE]&gt;&lt;![endif]--&gt;\\n&lt;!-...</td>\n",
       "      <td>0.921202</td>\n",
       "      <td>True</td>\n",
       "    </tr>\n",
       "    <tr>\n",
       "      <th>1</th>\n",
       "      <td>cleydsonroque.com.br</td>\n",
       "      <td>&lt;!DOCTYPE html&gt;&lt;html&gt;&lt;head&gt;&lt;meta charSet=\"utf-...</td>\n",
       "      <td>0.909104</td>\n",
       "      <td>True</td>\n",
       "    </tr>\n",
       "    <tr>\n",
       "      <th>5</th>\n",
       "      <td>ecupomize.com.br</td>\n",
       "      <td>&lt;!DOCTYPE html&gt;\\r\\n&lt;html lang=\"pt-BR\"&gt;\\r\\n&lt;hea...</td>\n",
       "      <td>0.901585</td>\n",
       "      <td>True</td>\n",
       "    </tr>\n",
       "    <tr>\n",
       "      <th>4</th>\n",
       "      <td>aromata.com.br</td>\n",
       "      <td>\\n&lt;!DOCTYPE html&gt;\\n&lt;html lang=\"pt-BR\"&gt;\\n&lt;head&gt;...</td>\n",
       "      <td>0.889699</td>\n",
       "      <td>True</td>\n",
       "    </tr>\n",
       "    <tr>\n",
       "      <th>7</th>\n",
       "      <td>fazendariacafe.com.br</td>\n",
       "      <td>&lt;!DOCTYPE html&gt;\\n&lt;html lang=\"pt-BR\"&gt;\\n    &lt;hea...</td>\n",
       "      <td>0.889582</td>\n",
       "      <td>True</td>\n",
       "    </tr>\n",
       "    <tr>\n",
       "      <th>2</th>\n",
       "      <td>dodytoy.com.br</td>\n",
       "      <td>&lt;!DOCTYPE html&gt;\\r\\n\\r\\n\\r\\n    &lt;html lang=\"br\"...</td>\n",
       "      <td>0.883501</td>\n",
       "      <td>True</td>\n",
       "    </tr>\n",
       "    <tr>\n",
       "      <th>9</th>\n",
       "      <td>bemdogato.com.br</td>\n",
       "      <td>\\n&lt;!DOCTYPE html&gt;\\n&lt;html lang=\"pt-br\"&gt;\\n\\t&lt;hea...</td>\n",
       "      <td>0.875394</td>\n",
       "      <td>True</td>\n",
       "    </tr>\n",
       "    <tr>\n",
       "      <th>1</th>\n",
       "      <td>emporiosertoes.com.br</td>\n",
       "      <td>&lt;!DOCTYPE html&gt;\\r\\n&lt;html lang=\"br\"&gt;\\r\\n\\r\\n&lt;he...</td>\n",
       "      <td>0.875277</td>\n",
       "      <td>True</td>\n",
       "    </tr>\n",
       "    <tr>\n",
       "      <th>5</th>\n",
       "      <td>peccatulingerieloja.com.br</td>\n",
       "      <td>&lt;!doctype html&gt;&lt;html data-theme=\"\" data-store=...</td>\n",
       "      <td>0.867891</td>\n",
       "      <td>True</td>\n",
       "    </tr>\n",
       "    <tr>\n",
       "      <th>6</th>\n",
       "      <td>icepe.com.br</td>\n",
       "      <td>&lt;!DOCTYPE html&gt;\\n&lt;html dir=\"ltr\" lang=\"pt-br\"&gt;...</td>\n",
       "      <td>0.831109</td>\n",
       "      <td>True</td>\n",
       "    </tr>\n",
       "    <tr>\n",
       "      <th>0</th>\n",
       "      <td>marianabasicatricot.com.br</td>\n",
       "      <td>\\t\\t\\n&lt;!DOCTYPE html&gt;\\n&lt;html lang=\"pt-BR\"&gt;\\n&lt;h...</td>\n",
       "      <td>0.824442</td>\n",
       "      <td>True</td>\n",
       "    </tr>\n",
       "    <tr>\n",
       "      <th>8</th>\n",
       "      <td>rotony.com.br</td>\n",
       "      <td>&lt;!DOCTYPE html&gt;\\n&lt;html lang=\"pt-BR\" prefix=\"og...</td>\n",
       "      <td>0.806096</td>\n",
       "      <td>True</td>\n",
       "    </tr>\n",
       "    <tr>\n",
       "      <th>3</th>\n",
       "      <td>ingridjoias.com.br</td>\n",
       "      <td>&lt;!DOCTYPE html&gt;&lt;html lang=\"pt-BR\"&gt;&lt;head&gt;&lt;meta ...</td>\n",
       "      <td>0.804104</td>\n",
       "      <td>True</td>\n",
       "    </tr>\n",
       "    <tr>\n",
       "      <th>3</th>\n",
       "      <td>unirc.ind.br</td>\n",
       "      <td>&lt;!DOCTYPE html&gt;\\n&lt;html lang=\"pt-BR\"&gt;\\n&lt;head&gt;\\n...</td>\n",
       "      <td>0.780265</td>\n",
       "      <td>True</td>\n",
       "    </tr>\n",
       "    <tr>\n",
       "      <th>0</th>\n",
       "      <td>maosdeajudar.com.br</td>\n",
       "      <td>&lt;!DOCTYPE html&gt;\\n&lt;html lang=\"pt-PT\"&gt;\\n&lt;head&gt;\\n...</td>\n",
       "      <td>0.764071</td>\n",
       "      <td>True</td>\n",
       "    </tr>\n",
       "    <tr>\n",
       "      <th>6</th>\n",
       "      <td>ariplas.com.br</td>\n",
       "      <td>&lt;!DOCTYPE html&gt;\\n&lt;html lang=\"pt-br\"&gt;\\n\\n&lt;head&gt;...</td>\n",
       "      <td>0.747546</td>\n",
       "      <td>True</td>\n",
       "    </tr>\n",
       "    <tr>\n",
       "      <th>7</th>\n",
       "      <td>lecrepe.com.br</td>\n",
       "      <td>\\n\\n\\n&lt;!DOCTYPE html&gt;\\n&lt;html lang=pt-BR&gt;\\n&lt;hea...</td>\n",
       "      <td>0.737660</td>\n",
       "      <td>True</td>\n",
       "    </tr>\n",
       "    <tr>\n",
       "      <th>9</th>\n",
       "      <td>universodecorado.com.br</td>\n",
       "      <td>&lt;!DOCTYPE html&gt;\\n&lt;html lang=\"pt-BR\"&gt;\\n&lt;head&gt;\\n...</td>\n",
       "      <td>0.735872</td>\n",
       "      <td>True</td>\n",
       "    </tr>\n",
       "    <tr>\n",
       "      <th>5</th>\n",
       "      <td>sosogrande.com.br</td>\n",
       "      <td>﻿&lt;!DOCTYPE html&gt;\\n&lt;html itemscope=\"itemscope\" ...</td>\n",
       "      <td>0.720172</td>\n",
       "      <td>True</td>\n",
       "    </tr>\n",
       "    <tr>\n",
       "      <th>4</th>\n",
       "      <td>peixesdocerrado.com.br</td>\n",
       "      <td>&lt;!DOCTYPE html&gt;\\n\\n&lt;html class=\"no-js\" lang=\"p...</td>\n",
       "      <td>0.718082</td>\n",
       "      <td>True</td>\n",
       "    </tr>\n",
       "    <tr>\n",
       "      <th>2</th>\n",
       "      <td>julianaaragonez.com.br</td>\n",
       "      <td>&lt;!DOCTYPE html&gt;&lt;html\\n    data-theme-name=\"Mod...</td>\n",
       "      <td>0.717321</td>\n",
       "      <td>True</td>\n",
       "    </tr>\n",
       "    <tr>\n",
       "      <th>1</th>\n",
       "      <td>encantusmoveis.com.br</td>\n",
       "      <td>\\n&lt;!DOCTYPE html&gt;\\n&lt;html lang=\"pt-BR\"&gt;\\n&lt;head&gt;...</td>\n",
       "      <td>0.708986</td>\n",
       "      <td>True</td>\n",
       "    </tr>\n",
       "    <tr>\n",
       "      <th>8</th>\n",
       "      <td>bambinno.com.br</td>\n",
       "      <td>&lt;!DOCTYPE html&gt;\\n&lt;html lang=\"pt-br\"&gt;\\n\\n&lt;head&gt;...</td>\n",
       "      <td>0.706677</td>\n",
       "      <td>True</td>\n",
       "    </tr>\n",
       "    <tr>\n",
       "      <th>5</th>\n",
       "      <td>uguettolar.com.br</td>\n",
       "      <td>&lt;!DOCTYPE html&gt;\\n&lt;!--[if IE]&gt;&lt;![endif]--&gt;\\n&lt;!-...</td>\n",
       "      <td>0.696988</td>\n",
       "      <td>True</td>\n",
       "    </tr>\n",
       "    <tr>\n",
       "      <th>8</th>\n",
       "      <td>pennyblack.com.br</td>\n",
       "      <td>&lt;!DOCTYPE html&gt;\\n&lt;!--[if IE]&gt;&lt;![endif]--&gt;\\n&lt;!-...</td>\n",
       "      <td>0.677472</td>\n",
       "      <td>True</td>\n",
       "    </tr>\n",
       "    <tr>\n",
       "      <th>4</th>\n",
       "      <td>domvaltin.com.br</td>\n",
       "      <td>&lt;!DOCTYPE html&gt;\\n&lt;html lang=\"pt-BR\"&gt;\\n&lt;head&gt;\\n...</td>\n",
       "      <td>0.676370</td>\n",
       "      <td>True</td>\n",
       "    </tr>\n",
       "    <tr>\n",
       "      <th>2</th>\n",
       "      <td>ergomais.com.br</td>\n",
       "      <td>&lt;!DOCTYPE html&gt;\\n&lt;html lang=\"pt-br\" itemscope ...</td>\n",
       "      <td>0.675018</td>\n",
       "      <td>True</td>\n",
       "    </tr>\n",
       "    <tr>\n",
       "      <th>0</th>\n",
       "      <td>catiabrindes.com.br</td>\n",
       "      <td>&lt;!DOCTYPE html&gt;\\n&lt;html lang=\"pt-BR\" itemscope=...</td>\n",
       "      <td>0.662129</td>\n",
       "      <td>True</td>\n",
       "    </tr>\n",
       "    <tr>\n",
       "      <th>1</th>\n",
       "      <td>marcobrummoveis.com.br</td>\n",
       "      <td>&lt;!DOCTYPE html&gt;\\r\\n&lt;html lang=\"pt-BR\"&gt;\\r\\n&lt;hea...</td>\n",
       "      <td>0.653392</td>\n",
       "      <td>True</td>\n",
       "    </tr>\n",
       "    <tr>\n",
       "      <th>6</th>\n",
       "      <td>organizzo.com.br</td>\n",
       "      <td>&lt;!DOCTYPE html&gt;\\n&lt;html lang=\"pt-br\"&gt;\\n\\n&lt;head&gt;...</td>\n",
       "      <td>0.650601</td>\n",
       "      <td>True</td>\n",
       "    </tr>\n",
       "    <tr>\n",
       "      <th>7</th>\n",
       "      <td>areaindustrial.com.br</td>\n",
       "      <td>&lt;!DOCTYPE html&gt;\\n&lt;!--[if IE 9 ]&gt; &lt;html lang=\"p...</td>\n",
       "      <td>0.629272</td>\n",
       "      <td>True</td>\n",
       "    </tr>\n",
       "    <tr>\n",
       "      <th>9</th>\n",
       "      <td>cortinasemguarulhos.com.br</td>\n",
       "      <td>&lt;!DOCTYPE HTML PUBLIC \"-//W3C//DTD HTML 4.01 T...</td>\n",
       "      <td>0.627377</td>\n",
       "      <td>True</td>\n",
       "    </tr>\n",
       "    <tr>\n",
       "      <th>3</th>\n",
       "      <td>vrultrasonics.com.br</td>\n",
       "      <td>&lt;!DOCTYPE html PUBLIC \"-//W3C//DTD XHTML 1.0 T...</td>\n",
       "      <td>0.605940</td>\n",
       "      <td>True</td>\n",
       "    </tr>\n",
       "    <tr>\n",
       "      <th>6</th>\n",
       "      <td>ar3capital.com.br</td>\n",
       "      <td>&lt;!DOCTYPE html&gt;\\n&lt;html lang=\"pt\"&gt;\\n&lt;head&gt;\\n  \\...</td>\n",
       "      <td>0.587963</td>\n",
       "      <td>True</td>\n",
       "    </tr>\n",
       "    <tr>\n",
       "      <th>2</th>\n",
       "      <td>renovaplastic.com.br</td>\n",
       "      <td>&lt;!DOCTYPE html&gt;\\n&lt;html lang=\"pt-br\"&gt;\\n&lt;head&gt;\\n...</td>\n",
       "      <td>0.561368</td>\n",
       "      <td>True</td>\n",
       "    </tr>\n",
       "    <tr>\n",
       "      <th>4</th>\n",
       "      <td>inovetecnologiams.com.br</td>\n",
       "      <td>&lt;!DOCTYPE html&gt;\\n&lt;html&gt;\\n    &lt;head&gt;\\n        &lt;...</td>\n",
       "      <td>0.544873</td>\n",
       "      <td>True</td>\n",
       "    </tr>\n",
       "    <tr>\n",
       "      <th>5</th>\n",
       "      <td>oplin.com.br</td>\n",
       "      <td>&lt;!DOCTYPE html&gt;\\n&lt;html lang=\"pt-br\" dir=\"ltr\"&gt;...</td>\n",
       "      <td>0.542692</td>\n",
       "      <td>True</td>\n",
       "    </tr>\n",
       "    <tr>\n",
       "      <th>0</th>\n",
       "      <td>casadasresistencias.com.br</td>\n",
       "      <td>&lt;!doctype html&gt;\\n&lt;html lang=\"pt-BR\"&gt;\\n    &lt;hea...</td>\n",
       "      <td>0.526999</td>\n",
       "      <td>True</td>\n",
       "    </tr>\n",
       "    <tr>\n",
       "      <th>3</th>\n",
       "      <td>juscredit.com.br</td>\n",
       "      <td>&lt;!DOCTYPE html&gt;&lt;html&gt;&lt;head&gt;&lt;meta name=\"descrip...</td>\n",
       "      <td>0.521997</td>\n",
       "      <td>True</td>\n",
       "    </tr>\n",
       "    <tr>\n",
       "      <th>1</th>\n",
       "      <td>promod.com.br</td>\n",
       "      <td>&lt;!doctype html&gt;\\n&lt;html data-n-head-ssr lang=\"e...</td>\n",
       "      <td>0.508903</td>\n",
       "      <td>True</td>\n",
       "    </tr>\n",
       "    <tr>\n",
       "      <th>8</th>\n",
       "      <td>ideallyinox.com.br</td>\n",
       "      <td>\\n&lt;!doctype html&gt;\\n&lt;html lang=pt-br&gt;\\n&lt;head&gt;\\n...</td>\n",
       "      <td>0.507917</td>\n",
       "      <td>True</td>\n",
       "    </tr>\n",
       "    <tr>\n",
       "      <th>7</th>\n",
       "      <td>sectorveiculos.com.br</td>\n",
       "      <td>&lt;!DOCTYPE html&gt;\\n&lt;html lang=\"pt-br\"&gt;\\n&lt;head&gt;\\n...</td>\n",
       "      <td>0.505825</td>\n",
       "      <td>True</td>\n",
       "    </tr>\n",
       "    <tr>\n",
       "      <th>9</th>\n",
       "      <td>rikelly.com.br</td>\n",
       "      <td>&lt;!DOCTYPE html&gt;\\n&lt;html lang=\"pt-BR\"&gt;\\n&lt;head&gt;\\n...</td>\n",
       "      <td>0.502310</td>\n",
       "      <td>True</td>\n",
       "    </tr>\n",
       "  </tbody>\n",
       "</table>\n",
       "</div>"
      ],
      "text/plain": [
       "                        domain  \\\n",
       "9           mawebotanic.com.br   \n",
       "0            renovaloja.com.br   \n",
       "7  forteplastembalagens.com.br   \n",
       "6     lavanderiavitoria.com.br   \n",
       "2            lupdigital.com.br   \n",
       "4               arbuini.com.br   \n",
       "3            augeeletro.com.br   \n",
       "8             santosete.com.br   \n",
       "1         cleydsonroque.com.br   \n",
       "5             ecupomize.com.br   \n",
       "4               aromata.com.br   \n",
       "7        fazendariacafe.com.br   \n",
       "2               dodytoy.com.br   \n",
       "9             bemdogato.com.br   \n",
       "1        emporiosertoes.com.br   \n",
       "5   peccatulingerieloja.com.br   \n",
       "6                 icepe.com.br   \n",
       "0   marianabasicatricot.com.br   \n",
       "8                rotony.com.br   \n",
       "3           ingridjoias.com.br   \n",
       "3                 unirc.ind.br   \n",
       "0          maosdeajudar.com.br   \n",
       "6               ariplas.com.br   \n",
       "7               lecrepe.com.br   \n",
       "9      universodecorado.com.br   \n",
       "5            sosogrande.com.br   \n",
       "4       peixesdocerrado.com.br   \n",
       "2       julianaaragonez.com.br   \n",
       "1        encantusmoveis.com.br   \n",
       "8              bambinno.com.br   \n",
       "5            uguettolar.com.br   \n",
       "8            pennyblack.com.br   \n",
       "4             domvaltin.com.br   \n",
       "2              ergomais.com.br   \n",
       "0          catiabrindes.com.br   \n",
       "1       marcobrummoveis.com.br   \n",
       "6             organizzo.com.br   \n",
       "7        areaindustrial.com.br   \n",
       "9   cortinasemguarulhos.com.br   \n",
       "3         vrultrasonics.com.br   \n",
       "6            ar3capital.com.br   \n",
       "2         renovaplastic.com.br   \n",
       "4     inovetecnologiams.com.br   \n",
       "5                 oplin.com.br   \n",
       "0   casadasresistencias.com.br   \n",
       "3             juscredit.com.br   \n",
       "1                promod.com.br   \n",
       "8           ideallyinox.com.br   \n",
       "7        sectorveiculos.com.br   \n",
       "9               rikelly.com.br   \n",
       "\n",
       "                                                html  probability  prediction  \n",
       "9  <!DOCTYPE html>\\n<html lang=\"pt\">\\n<head>\\n  \\...     0.996031        True  \n",
       "0  <!DOCTYPE html>\\n<html lang=\"pt-BR\">\\n<head>\\n...     0.993446        True  \n",
       "7  <!doctype html><html data-theme=\"\" data-store=...     0.989294        True  \n",
       "6  <!doctype html><html data-theme=\"177\" data-sto...     0.979964        True  \n",
       "2  <!DOCTYPE html>\\n<html lang=\"pt-BR\">\\n<head>\\n...     0.977565        True  \n",
       "4  \\n<!DOCTYPE html>\\n<html lang=\"pt-BR\">\\n<head>...     0.970242        True  \n",
       "3  <!DOCTYPE html>\\n<!--[if IE]><![endif]-->\\n<!-...     0.964615        True  \n",
       "8  <!DOCTYPE html>\\n<!--[if IE]><![endif]-->\\n<!-...     0.921202        True  \n",
       "1  <!DOCTYPE html><html><head><meta charSet=\"utf-...     0.909104        True  \n",
       "5  <!DOCTYPE html>\\r\\n<html lang=\"pt-BR\">\\r\\n<hea...     0.901585        True  \n",
       "4  \\n<!DOCTYPE html>\\n<html lang=\"pt-BR\">\\n<head>...     0.889699        True  \n",
       "7  <!DOCTYPE html>\\n<html lang=\"pt-BR\">\\n    <hea...     0.889582        True  \n",
       "2  <!DOCTYPE html>\\r\\n\\r\\n\\r\\n    <html lang=\"br\"...     0.883501        True  \n",
       "9  \\n<!DOCTYPE html>\\n<html lang=\"pt-br\">\\n\\t<hea...     0.875394        True  \n",
       "1  <!DOCTYPE html>\\r\\n<html lang=\"br\">\\r\\n\\r\\n<he...     0.875277        True  \n",
       "5  <!doctype html><html data-theme=\"\" data-store=...     0.867891        True  \n",
       "6  <!DOCTYPE html>\\n<html dir=\"ltr\" lang=\"pt-br\">...     0.831109        True  \n",
       "0  \\t\\t\\n<!DOCTYPE html>\\n<html lang=\"pt-BR\">\\n<h...     0.824442        True  \n",
       "8  <!DOCTYPE html>\\n<html lang=\"pt-BR\" prefix=\"og...     0.806096        True  \n",
       "3  <!DOCTYPE html><html lang=\"pt-BR\"><head><meta ...     0.804104        True  \n",
       "3  <!DOCTYPE html>\\n<html lang=\"pt-BR\">\\n<head>\\n...     0.780265        True  \n",
       "0  <!DOCTYPE html>\\n<html lang=\"pt-PT\">\\n<head>\\n...     0.764071        True  \n",
       "6  <!DOCTYPE html>\\n<html lang=\"pt-br\">\\n\\n<head>...     0.747546        True  \n",
       "7  \\n\\n\\n<!DOCTYPE html>\\n<html lang=pt-BR>\\n<hea...     0.737660        True  \n",
       "9  <!DOCTYPE html>\\n<html lang=\"pt-BR\">\\n<head>\\n...     0.735872        True  \n",
       "5  ﻿<!DOCTYPE html>\\n<html itemscope=\"itemscope\" ...     0.720172        True  \n",
       "4  <!DOCTYPE html>\\n\\n<html class=\"no-js\" lang=\"p...     0.718082        True  \n",
       "2  <!DOCTYPE html><html\\n    data-theme-name=\"Mod...     0.717321        True  \n",
       "1  \\n<!DOCTYPE html>\\n<html lang=\"pt-BR\">\\n<head>...     0.708986        True  \n",
       "8  <!DOCTYPE html>\\n<html lang=\"pt-br\">\\n\\n<head>...     0.706677        True  \n",
       "5  <!DOCTYPE html>\\n<!--[if IE]><![endif]-->\\n<!-...     0.696988        True  \n",
       "8  <!DOCTYPE html>\\n<!--[if IE]><![endif]-->\\n<!-...     0.677472        True  \n",
       "4  <!DOCTYPE html>\\n<html lang=\"pt-BR\">\\n<head>\\n...     0.676370        True  \n",
       "2  <!DOCTYPE html>\\n<html lang=\"pt-br\" itemscope ...     0.675018        True  \n",
       "0  <!DOCTYPE html>\\n<html lang=\"pt-BR\" itemscope=...     0.662129        True  \n",
       "1  <!DOCTYPE html>\\r\\n<html lang=\"pt-BR\">\\r\\n<hea...     0.653392        True  \n",
       "6  <!DOCTYPE html>\\n<html lang=\"pt-br\">\\n\\n<head>...     0.650601        True  \n",
       "7  <!DOCTYPE html>\\n<!--[if IE 9 ]> <html lang=\"p...     0.629272        True  \n",
       "9  <!DOCTYPE HTML PUBLIC \"-//W3C//DTD HTML 4.01 T...     0.627377        True  \n",
       "3  <!DOCTYPE html PUBLIC \"-//W3C//DTD XHTML 1.0 T...     0.605940        True  \n",
       "6  <!DOCTYPE html>\\n<html lang=\"pt\">\\n<head>\\n  \\...     0.587963        True  \n",
       "2  <!DOCTYPE html>\\n<html lang=\"pt-br\">\\n<head>\\n...     0.561368        True  \n",
       "4  <!DOCTYPE html>\\n<html>\\n    <head>\\n        <...     0.544873        True  \n",
       "5  <!DOCTYPE html>\\n<html lang=\"pt-br\" dir=\"ltr\">...     0.542692        True  \n",
       "0  <!doctype html>\\n<html lang=\"pt-BR\">\\n    <hea...     0.526999        True  \n",
       "3  <!DOCTYPE html><html><head><meta name=\"descrip...     0.521997        True  \n",
       "1  <!doctype html>\\n<html data-n-head-ssr lang=\"e...     0.508903        True  \n",
       "8  \\n<!doctype html>\\n<html lang=pt-br>\\n<head>\\n...     0.507917        True  \n",
       "7  <!DOCTYPE html>\\n<html lang=\"pt-br\">\\n<head>\\n...     0.505825        True  \n",
       "9  <!DOCTYPE html>\\n<html lang=\"pt-BR\">\\n<head>\\n...     0.502310        True  "
      ]
     },
     "execution_count": 9,
     "metadata": {},
     "output_type": "execute_result"
    }
   ],
   "source": [
    "df_final.head(50)"
   ]
  },
  {
   "cell_type": "code",
   "execution_count": null,
   "metadata": {},
   "outputs": [],
   "source": [
    "df_final.drop(columns=['html'], inplace=True)\n",
    "df_final.to_parquet('../data/countries_predictions_sample.parquet',index=False)"
   ]
  },
  {
   "cell_type": "code",
   "execution_count": 7,
   "metadata": {},
   "outputs": [],
   "source": [
    "spark.stop()"
   ]
  },
  {
   "cell_type": "code",
   "execution_count": 8,
   "metadata": {},
   "outputs": [
    {
     "data": {
      "text/html": [
       "<div>\n",
       "<style scoped>\n",
       "    .dataframe tbody tr th:only-of-type {\n",
       "        vertical-align: middle;\n",
       "    }\n",
       "\n",
       "    .dataframe tbody tr th {\n",
       "        vertical-align: top;\n",
       "    }\n",
       "\n",
       "    .dataframe thead th {\n",
       "        text-align: right;\n",
       "    }\n",
       "</style>\n",
       "<table border=\"1\" class=\"dataframe\">\n",
       "  <thead>\n",
       "    <tr style=\"text-align: right;\">\n",
       "      <th></th>\n",
       "      <th>domain</th>\n",
       "      <th>html</th>\n",
       "      <th>probability</th>\n",
       "      <th>prediction</th>\n",
       "    </tr>\n",
       "  </thead>\n",
       "  <tbody>\n",
       "    <tr>\n",
       "      <th>0</th>\n",
       "      <td>casavivars.com.br</td>\n",
       "      <td>&lt;!DOCTYPE html&gt;&lt;html&gt;&lt;head&gt;&lt;meta http-equiv=\"C...</td>\n",
       "      <td>0.085462</td>\n",
       "      <td>False</td>\n",
       "    </tr>\n",
       "    <tr>\n",
       "      <th>1</th>\n",
       "      <td>blogtherainbow.blogspot.com.br</td>\n",
       "      <td>&lt;!DOCTYPE html&gt;\\n&lt;html class='v2' dir='ltr' la...</td>\n",
       "      <td>0.037474</td>\n",
       "      <td>False</td>\n",
       "    </tr>\n",
       "    <tr>\n",
       "      <th>2</th>\n",
       "      <td>novasantahelena.mt.gov.br</td>\n",
       "      <td>&lt;!DOCTYPE html&gt;\\n&lt;html&gt;\\n&lt;head&gt;\\n\\t\\t\\t&lt;meta c...</td>\n",
       "      <td>0.098519</td>\n",
       "      <td>False</td>\n",
       "    </tr>\n",
       "    <tr>\n",
       "      <th>3</th>\n",
       "      <td>diamanteshop.blogspot.com.br</td>\n",
       "      <td>&lt;!DOCTYPE html&gt;\\n&lt;html class='v2' dir='ltr' la...</td>\n",
       "      <td>0.015964</td>\n",
       "      <td>False</td>\n",
       "    </tr>\n",
       "    <tr>\n",
       "      <th>4</th>\n",
       "      <td>roccianera.com.br</td>\n",
       "      <td>&lt;!DOCTYPE html&gt;\\n&lt;!--[if lt IE 7]&gt;      &lt;html ...</td>\n",
       "      <td>0.053641</td>\n",
       "      <td>False</td>\n",
       "    </tr>\n",
       "    <tr>\n",
       "      <th>...</th>\n",
       "      <td>...</td>\n",
       "      <td>...</td>\n",
       "      <td>...</td>\n",
       "      <td>...</td>\n",
       "    </tr>\n",
       "    <tr>\n",
       "      <th>5</th>\n",
       "      <td>insumosdailha.com.br</td>\n",
       "      <td>&lt;!DOCTYPE html&gt;&lt;html lang=\"pt-BR\" xmlns:og=\"ht...</td>\n",
       "      <td>0.964731</td>\n",
       "      <td>True</td>\n",
       "    </tr>\n",
       "    <tr>\n",
       "      <th>6</th>\n",
       "      <td>adaptogen.com.br</td>\n",
       "      <td>&lt;!DOCTYPE html&gt;\\n&lt;html class=\"no-js\" lang=\"pt-...</td>\n",
       "      <td>0.944647</td>\n",
       "      <td>True</td>\n",
       "    </tr>\n",
       "    <tr>\n",
       "      <th>7</th>\n",
       "      <td>pedrinhosports.com.br</td>\n",
       "      <td>&lt;!doctype html&gt;\\n&lt;html lang=\"pt-br\"&gt;\\n&lt;head&gt;\\n...</td>\n",
       "      <td>0.950011</td>\n",
       "      <td>True</td>\n",
       "    </tr>\n",
       "    <tr>\n",
       "      <th>8</th>\n",
       "      <td>revivcestasbasicas.com.br</td>\n",
       "      <td>&lt;!DOCTYPE html&gt;\\r\\n&lt;html data-pnotify-firstpos...</td>\n",
       "      <td>0.915125</td>\n",
       "      <td>True</td>\n",
       "    </tr>\n",
       "    <tr>\n",
       "      <th>9</th>\n",
       "      <td>santodesejosexshop.com.br</td>\n",
       "      <td>&lt;!doctype html&gt;\\n&lt;html lang=\"pt-BR\"&gt;\\n&lt;head&gt;\\n...</td>\n",
       "      <td>0.950660</td>\n",
       "      <td>True</td>\n",
       "    </tr>\n",
       "  </tbody>\n",
       "</table>\n",
       "<p>96 rows × 4 columns</p>\n",
       "</div>"
      ],
      "text/plain": [
       "                            domain  \\\n",
       "0                casavivars.com.br   \n",
       "1   blogtherainbow.blogspot.com.br   \n",
       "2        novasantahelena.mt.gov.br   \n",
       "3     diamanteshop.blogspot.com.br   \n",
       "4                roccianera.com.br   \n",
       "..                             ...   \n",
       "5             insumosdailha.com.br   \n",
       "6                 adaptogen.com.br   \n",
       "7            pedrinhosports.com.br   \n",
       "8        revivcestasbasicas.com.br   \n",
       "9        santodesejosexshop.com.br   \n",
       "\n",
       "                                                 html  probability  prediction  \n",
       "0   <!DOCTYPE html><html><head><meta http-equiv=\"C...     0.085462       False  \n",
       "1   <!DOCTYPE html>\\n<html class='v2' dir='ltr' la...     0.037474       False  \n",
       "2   <!DOCTYPE html>\\n<html>\\n<head>\\n\\t\\t\\t<meta c...     0.098519       False  \n",
       "3   <!DOCTYPE html>\\n<html class='v2' dir='ltr' la...     0.015964       False  \n",
       "4   <!DOCTYPE html>\\n<!--[if lt IE 7]>      <html ...     0.053641       False  \n",
       "..                                                ...          ...         ...  \n",
       "5   <!DOCTYPE html><html lang=\"pt-BR\" xmlns:og=\"ht...     0.964731        True  \n",
       "6   <!DOCTYPE html>\\n<html class=\"no-js\" lang=\"pt-...     0.944647        True  \n",
       "7   <!doctype html>\\n<html lang=\"pt-br\">\\n<head>\\n...     0.950011        True  \n",
       "8   <!DOCTYPE html>\\r\\n<html data-pnotify-firstpos...     0.915125        True  \n",
       "9   <!doctype html>\\n<html lang=\"pt-BR\">\\n<head>\\n...     0.950660        True  \n",
       "\n",
       "[96 rows x 4 columns]"
      ]
     },
     "execution_count": 8,
     "metadata": {},
     "output_type": "execute_result"
    }
   ],
   "source": [
    "df_final"
   ]
  },
  {
   "cell_type": "code",
   "execution_count": null,
   "metadata": {},
   "outputs": [],
   "source": [
    "df_val = spark.read.csv('../data/hand_checked.csv', header=True)"
   ]
  },
  {
   "cell_type": "code",
   "execution_count": 19,
   "metadata": {},
   "outputs": [
    {
     "name": "stdout",
     "output_type": "stream",
     "text": [
      "+--------------------+----------+----------+\n",
      "|              domain|prediction|hand_check|\n",
      "+--------------------+----------+----------+\n",
      "|chiquinhopaisagis...|       0.0|       0.0|\n",
      "|chiquinisilvaadvo...|       0.0|       0.0|\n",
      "|chiquitinhamaravi...|       0.0|       0.0|\n",
      "| chjautoparts.com.br|       0.0|       0.0|\n",
      "|ciadolarjoinville...|       0.0|       0.0|\n",
      "| ciadosbichos.com.br|       0.0|       0.0|\n",
      "|graxaetralhas.blo...|       0.0|       0.0|\n",
      "|grazielamansur.co...|       0.0|       0.0|\n",
      "|graziosiarquitetu...|       0.0|       0.0|\n",
      "|maxcodex.blogspot...|       0.0|       0.0|\n",
      "|    maxconsig.com.br|       0.0|       0.0|\n",
      "|maxiarautomacao.c...|       0.0|       0.0|\n",
      "|    maxicaixa.com.br|       0.0|       0.0|\n",
      "| pgbcorretora.com.br|       0.0|       0.0|\n",
      "|          pgf.adv.br|       0.0|       0.0|\n",
      "|       phaius.com.br|       0.0|       0.0|\n",
      "|     7daysvip.com.br|       0.0|       0.0|\n",
      "|   7linhaspba.com.br|       0.0|       0.0|\n",
      "|8seculoslinguapor...|       0.0|       0.0|\n",
      "| drmarconunes.com.br|       0.0|       0.0|\n",
      "+--------------------+----------+----------+\n",
      "only showing top 20 rows\n",
      "\n"
     ]
    }
   ],
   "source": [
    "df_val.show()"
   ]
  },
  {
   "cell_type": "code",
   "execution_count": 20,
   "metadata": {},
   "outputs": [
    {
     "data": {
      "text/plain": [
       "57"
      ]
     },
     "execution_count": 20,
     "metadata": {},
     "output_type": "execute_result"
    }
   ],
   "source": [
    "df_val.count()"
   ]
  },
  {
   "cell_type": "code",
   "execution_count": 21,
   "metadata": {},
   "outputs": [],
   "source": [
    "df_val = df_val.select(['domain', 'hand_check'])"
   ]
  },
  {
   "cell_type": "code",
   "execution_count": 22,
   "metadata": {},
   "outputs": [],
   "source": [
    "# df_val2 = df_results.join(df_val, df_results.domain == df_val.domain, 'inner')  \n",
    "df_val2 = df_results.join(df_val, on='domain', how='inner')"
   ]
  },
  {
   "cell_type": "code",
   "execution_count": 23,
   "metadata": {},
   "outputs": [
    {
     "name": "stdout",
     "output_type": "stream",
     "text": [
      "root\n",
      " |-- domain: string (nullable = true)\n",
      " |-- html: string (nullable = true)\n",
      " |-- probability: double (nullable = true)\n",
      " |-- prediction: boolean (nullable = true)\n",
      " |-- hand_check: string (nullable = true)\n",
      "\n"
     ]
    }
   ],
   "source": [
    "df_val2.printSchema()"
   ]
  },
  {
   "cell_type": "code",
   "execution_count": 24,
   "metadata": {},
   "outputs": [
    {
     "name": "stderr",
     "output_type": "stream",
     "text": [
      "                                                                                \r"
     ]
    },
    {
     "data": {
      "text/plain": [
       "115"
      ]
     },
     "execution_count": 24,
     "metadata": {},
     "output_type": "execute_result"
    }
   ],
   "source": [
    "df_val2.count()"
   ]
  },
  {
   "cell_type": "code",
   "execution_count": 25,
   "metadata": {},
   "outputs": [
    {
     "name": "stderr",
     "output_type": "stream",
     "text": [
      "                                                                                \r"
     ]
    }
   ],
   "source": [
    "df_val2_pd = df_val2.toPandas()"
   ]
  },
  {
   "cell_type": "code",
   "execution_count": 27,
   "metadata": {},
   "outputs": [
    {
     "data": {
      "text/html": [
       "<div>\n",
       "<style scoped>\n",
       "    .dataframe tbody tr th:only-of-type {\n",
       "        vertical-align: middle;\n",
       "    }\n",
       "\n",
       "    .dataframe tbody tr th {\n",
       "        vertical-align: top;\n",
       "    }\n",
       "\n",
       "    .dataframe thead th {\n",
       "        text-align: right;\n",
       "    }\n",
       "</style>\n",
       "<table border=\"1\" class=\"dataframe\">\n",
       "  <thead>\n",
       "    <tr style=\"text-align: right;\">\n",
       "      <th></th>\n",
       "      <th>domain</th>\n",
       "      <th>html</th>\n",
       "      <th>probability</th>\n",
       "      <th>prediction</th>\n",
       "      <th>hand_check</th>\n",
       "    </tr>\n",
       "  </thead>\n",
       "  <tbody>\n",
       "    <tr>\n",
       "      <th>0</th>\n",
       "      <td>ecocystore.com.br</td>\n",
       "      <td>&lt;!doctype html&gt;&lt;html lang=\"pt-br\" data-files=\"...</td>\n",
       "      <td>0.931612</td>\n",
       "      <td>True</td>\n",
       "      <td>1.0</td>\n",
       "    </tr>\n",
       "    <tr>\n",
       "      <th>1</th>\n",
       "      <td>pgf.adv.br</td>\n",
       "      <td>&lt;!DOCTYPE html&gt;\\n&lt;html lang=\"pt-BR\"&gt;\\n&lt;head&gt;\\n...</td>\n",
       "      <td>0.091142</td>\n",
       "      <td>False</td>\n",
       "      <td>0.0</td>\n",
       "    </tr>\n",
       "    <tr>\n",
       "      <th>2</th>\n",
       "      <td>pharmaciahahnemann.com.br</td>\n",
       "      <td>&lt;!DOCTYPE html&gt;\\r\\n&lt;html class=\"no-js\" lang=\"z...</td>\n",
       "      <td>0.263449</td>\n",
       "      <td>False</td>\n",
       "      <td>1.0</td>\n",
       "    </tr>\n",
       "    <tr>\n",
       "      <th>3</th>\n",
       "      <td>pgbcorretora.com.br</td>\n",
       "      <td>&lt;!DOCTYPE html&gt;\\n&lt;html&gt;\\n\\n&lt;head&gt;\\n  &lt;meta cha...</td>\n",
       "      <td>0.132458</td>\n",
       "      <td>False</td>\n",
       "      <td>0.0</td>\n",
       "    </tr>\n",
       "    <tr>\n",
       "      <th>4</th>\n",
       "      <td>phaius.com.br</td>\n",
       "      <td>&lt;!DOCTYPE html&gt;\\n&lt;html lang=\"pt\"&gt;\\n&lt;head&gt;\\n  \\...</td>\n",
       "      <td>0.078790</td>\n",
       "      <td>False</td>\n",
       "      <td>0.0</td>\n",
       "    </tr>\n",
       "  </tbody>\n",
       "</table>\n",
       "</div>"
      ],
      "text/plain": [
       "                      domain  \\\n",
       "0          ecocystore.com.br   \n",
       "1                 pgf.adv.br   \n",
       "2  pharmaciahahnemann.com.br   \n",
       "3        pgbcorretora.com.br   \n",
       "4              phaius.com.br   \n",
       "\n",
       "                                                html  probability  prediction  \\\n",
       "0  <!doctype html><html lang=\"pt-br\" data-files=\"...     0.931612        True   \n",
       "1  <!DOCTYPE html>\\n<html lang=\"pt-BR\">\\n<head>\\n...     0.091142       False   \n",
       "2  <!DOCTYPE html>\\r\\n<html class=\"no-js\" lang=\"z...     0.263449       False   \n",
       "3  <!DOCTYPE html>\\n<html>\\n\\n<head>\\n  <meta cha...     0.132458       False   \n",
       "4  <!DOCTYPE html>\\n<html lang=\"pt\">\\n<head>\\n  \\...     0.078790       False   \n",
       "\n",
       "  hand_check  \n",
       "0        1.0  \n",
       "1        0.0  \n",
       "2        1.0  \n",
       "3        0.0  \n",
       "4        0.0  "
      ]
     },
     "execution_count": 27,
     "metadata": {},
     "output_type": "execute_result"
    }
   ],
   "source": [
    "df_val2_pd.head()"
   ]
  },
  {
   "cell_type": "code",
   "execution_count": 51,
   "metadata": {},
   "outputs": [
    {
     "name": "stderr",
     "output_type": "stream",
     "text": [
      "/tmp/ipykernel_2790701/2564725562.py:2: FutureWarning: Downcasting behavior in `replace` is deprecated and will be removed in a future version. To retain the old behavior, explicitly call `result.infer_objects(copy=False)`. To opt-in to the future behavior, set `pd.set_option('future.no_silent_downcasting', True)`\n",
      "  df_val2_pd['hand_check'] = df_val2_pd['hand_check'].replace({'0.0': False, '1.0': True})\n"
     ]
    }
   ],
   "source": [
    "df_val2_pd = df_val2_pd.loc[df_val2_pd.groupby('domain')['probability'].idxmax()].sort_values(by='probability', ascending=False)\n",
    "df_val2_pd['hand_check'] = df_val2_pd['hand_check'].replace({'0.0': False, '1.0': True})"
   ]
  },
  {
   "cell_type": "code",
   "execution_count": 30,
   "metadata": {},
   "outputs": [
    {
     "data": {
      "text/plain": [
       "57"
      ]
     },
     "execution_count": 30,
     "metadata": {},
     "output_type": "execute_result"
    }
   ],
   "source": [
    "df_val2_pd['domain'].nunique()"
   ]
  },
  {
   "cell_type": "code",
   "execution_count": 32,
   "metadata": {},
   "outputs": [
    {
     "data": {
      "text/plain": [
       "57"
      ]
     },
     "execution_count": 32,
     "metadata": {},
     "output_type": "execute_result"
    }
   ],
   "source": [
    "len(df_val2_pd)"
   ]
  },
  {
   "cell_type": "code",
   "execution_count": 53,
   "metadata": {},
   "outputs": [
    {
     "data": {
      "text/html": [
       "<div>\n",
       "<style scoped>\n",
       "    .dataframe tbody tr th:only-of-type {\n",
       "        vertical-align: middle;\n",
       "    }\n",
       "\n",
       "    .dataframe tbody tr th {\n",
       "        vertical-align: top;\n",
       "    }\n",
       "\n",
       "    .dataframe thead th {\n",
       "        text-align: right;\n",
       "    }\n",
       "</style>\n",
       "<table border=\"1\" class=\"dataframe\">\n",
       "  <thead>\n",
       "    <tr style=\"text-align: right;\">\n",
       "      <th></th>\n",
       "      <th>domain</th>\n",
       "      <th>html</th>\n",
       "      <th>probability</th>\n",
       "      <th>prediction</th>\n",
       "      <th>hand_check</th>\n",
       "    </tr>\n",
       "  </thead>\n",
       "  <tbody>\n",
       "    <tr>\n",
       "      <th>100</th>\n",
       "      <td>ciadosdescontos.com.br</td>\n",
       "      <td>&lt;!DOCTYPE html&gt;\\n&lt;html lang=\"pt\" dir=\"ltr\"&gt;\\n&lt;...</td>\n",
       "      <td>0.895232</td>\n",
       "      <td>True</td>\n",
       "      <td>False</td>\n",
       "    </tr>\n",
       "    <tr>\n",
       "      <th>103</th>\n",
       "      <td>7linhaspba.com.br</td>\n",
       "      <td>&lt;!DOCTYPE html&gt;\\n&lt;html lang=\"en\"&gt;\\n  &lt;head&gt;\\n ...</td>\n",
       "      <td>0.673276</td>\n",
       "      <td>True</td>\n",
       "      <td>False</td>\n",
       "    </tr>\n",
       "    <tr>\n",
       "      <th>45</th>\n",
       "      <td>drogacerta.com.br</td>\n",
       "      <td>&lt;!doctype html&gt;\\n&lt;html lang=\"pt-br\"&gt;\\n&lt;head&gt;\\n...</td>\n",
       "      <td>0.574537</td>\n",
       "      <td>True</td>\n",
       "      <td>False</td>\n",
       "    </tr>\n",
       "    <tr>\n",
       "      <th>101</th>\n",
       "      <td>graxasonline.com.br</td>\n",
       "      <td>&lt;!DOCTYPE html&gt;\\n&lt;html lang=\"pt-BR\"&gt;\\n&lt;head&gt;\\n...</td>\n",
       "      <td>0.471771</td>\n",
       "      <td>False</td>\n",
       "      <td>True</td>\n",
       "    </tr>\n",
       "    <tr>\n",
       "      <th>14</th>\n",
       "      <td>freletronicos.com.br</td>\n",
       "      <td>&lt;!doctype html&gt;\\n&lt;html class=\"no-js\" lang=\"pt-...</td>\n",
       "      <td>0.376186</td>\n",
       "      <td>False</td>\n",
       "      <td>True</td>\n",
       "    </tr>\n",
       "    <tr>\n",
       "      <th>2</th>\n",
       "      <td>pharmaciahahnemann.com.br</td>\n",
       "      <td>&lt;!DOCTYPE html&gt;\\r\\n&lt;html class=\"no-js\" lang=\"z...</td>\n",
       "      <td>0.263449</td>\n",
       "      <td>False</td>\n",
       "      <td>True</td>\n",
       "    </tr>\n",
       "  </tbody>\n",
       "</table>\n",
       "</div>"
      ],
      "text/plain": [
       "                        domain  \\\n",
       "100     ciadosdescontos.com.br   \n",
       "103          7linhaspba.com.br   \n",
       "45           drogacerta.com.br   \n",
       "101        graxasonline.com.br   \n",
       "14        freletronicos.com.br   \n",
       "2    pharmaciahahnemann.com.br   \n",
       "\n",
       "                                                  html  probability  \\\n",
       "100  <!DOCTYPE html>\\n<html lang=\"pt\" dir=\"ltr\">\\n<...     0.895232   \n",
       "103  <!DOCTYPE html>\\n<html lang=\"en\">\\n  <head>\\n ...     0.673276   \n",
       "45   <!doctype html>\\n<html lang=\"pt-br\">\\n<head>\\n...     0.574537   \n",
       "101  <!DOCTYPE html>\\n<html lang=\"pt-BR\">\\n<head>\\n...     0.471771   \n",
       "14   <!doctype html>\\n<html class=\"no-js\" lang=\"pt-...     0.376186   \n",
       "2    <!DOCTYPE html>\\r\\n<html class=\"no-js\" lang=\"z...     0.263449   \n",
       "\n",
       "     prediction  hand_check  \n",
       "100        True       False  \n",
       "103        True       False  \n",
       "45         True       False  \n",
       "101       False        True  \n",
       "14        False        True  \n",
       "2         False        True  "
      ]
     },
     "execution_count": 53,
     "metadata": {},
     "output_type": "execute_result"
    }
   ],
   "source": [
    "df_val2_pd.loc[df_val2_pd['prediction'] != df_val2_pd['hand_check']]"
   ]
  },
  {
   "cell_type": "code",
   "execution_count": 25,
   "metadata": {},
   "outputs": [
    {
     "ename": "NameError",
     "evalue": "name 'df_val2_pd' is not defined",
     "output_type": "error",
     "traceback": [
      "\u001b[0;31m---------------------------------------------------------------------------\u001b[0m",
      "\u001b[0;31mNameError\u001b[0m                                 Traceback (most recent call last)",
      "Cell \u001b[0;32mIn[25], line 1\u001b[0m\n\u001b[0;32m----> 1\u001b[0m \u001b[43mdf_val2_pd\u001b[49m\u001b[38;5;241m.\u001b[39mloc[df_val2_pd[\u001b[38;5;124m'\u001b[39m\u001b[38;5;124mprediction\u001b[39m\u001b[38;5;124m'\u001b[39m] \u001b[38;5;241m!=\u001b[39m df_val2_pd[\u001b[38;5;124m'\u001b[39m\u001b[38;5;124mhand_check\u001b[39m\u001b[38;5;124m'\u001b[39m]]\n",
      "\u001b[0;31mNameError\u001b[0m: name 'df_val2_pd' is not defined"
     ]
    }
   ],
   "source": [
    "df_val2_pd.loc[df_val2_pd['prediction'] != df_val2_pd['hand_check']]"
   ]
  },
  {
   "cell_type": "code",
   "execution_count": 62,
   "metadata": {},
   "outputs": [
    {
     "name": "stdout",
     "output_type": "stream",
     "text": [
      "10\n"
     ]
    },
    {
     "data": {
      "text/html": [
       "<div>\n",
       "<style scoped>\n",
       "    .dataframe tbody tr th:only-of-type {\n",
       "        vertical-align: middle;\n",
       "    }\n",
       "\n",
       "    .dataframe tbody tr th {\n",
       "        vertical-align: top;\n",
       "    }\n",
       "\n",
       "    .dataframe thead th {\n",
       "        text-align: right;\n",
       "    }\n",
       "</style>\n",
       "<table border=\"1\" class=\"dataframe\">\n",
       "  <thead>\n",
       "    <tr style=\"text-align: right;\">\n",
       "      <th></th>\n",
       "      <th>domain</th>\n",
       "      <th>html</th>\n",
       "      <th>probability</th>\n",
       "      <th>prediction</th>\n",
       "      <th>hand_check</th>\n",
       "    </tr>\n",
       "  </thead>\n",
       "  <tbody>\n",
       "    <tr>\n",
       "      <th>5</th>\n",
       "      <td>ecobotica.com.br</td>\n",
       "      <td>&lt;!doctype html&gt;\\n&lt;html lang=\"pt-br\" data-netze...</td>\n",
       "      <td>0.979259</td>\n",
       "      <td>True</td>\n",
       "      <td>True</td>\n",
       "    </tr>\n",
       "    <tr>\n",
       "      <th>57</th>\n",
       "      <td>chocolatariagramado.com.br</td>\n",
       "      <td>\\n\\n&lt;!DOCTYPE html&gt;\\n&lt;html lang=\"pt-BR\" xmlns=...</td>\n",
       "      <td>0.964406</td>\n",
       "      <td>True</td>\n",
       "      <td>True</td>\n",
       "    </tr>\n",
       "    <tr>\n",
       "      <th>28</th>\n",
       "      <td>drogariadrogan.com.br</td>\n",
       "      <td>&lt;!doctype html&gt;&lt;html\\nlang=\"pt\"&gt;&lt;head &gt;  &lt;meta...</td>\n",
       "      <td>0.957640</td>\n",
       "      <td>True</td>\n",
       "      <td>True</td>\n",
       "    </tr>\n",
       "    <tr>\n",
       "      <th>36</th>\n",
       "      <td>phonefy.com.br</td>\n",
       "      <td>&lt;!doctype html&gt;\\n&lt;html lang=\"pt-br\" data-tray-...</td>\n",
       "      <td>0.953499</td>\n",
       "      <td>True</td>\n",
       "      <td>True</td>\n",
       "    </tr>\n",
       "    <tr>\n",
       "      <th>0</th>\n",
       "      <td>ecocystore.com.br</td>\n",
       "      <td>&lt;!doctype html&gt;&lt;html lang=\"pt-br\" data-files=\"...</td>\n",
       "      <td>0.931612</td>\n",
       "      <td>True</td>\n",
       "      <td>True</td>\n",
       "    </tr>\n",
       "    <tr>\n",
       "      <th>59</th>\n",
       "      <td>placalcd.com.br</td>\n",
       "      <td>\\r\\n\\r\\n&lt;!DOCTYPE html&gt;\\r\\n&lt;html lang=\"pt-BR\"&gt;...</td>\n",
       "      <td>0.930749</td>\n",
       "      <td>True</td>\n",
       "      <td>True</td>\n",
       "    </tr>\n",
       "    <tr>\n",
       "      <th>94</th>\n",
       "      <td>gravura.art.br</td>\n",
       "      <td>\\n\\n&lt;!DOCTYPE html&gt;\\n&lt;html lang=\"pt-BR\" xmlns=...</td>\n",
       "      <td>0.920472</td>\n",
       "      <td>True</td>\n",
       "      <td>True</td>\n",
       "    </tr>\n",
       "    <tr>\n",
       "      <th>7</th>\n",
       "      <td>pisoautopecas.com.br</td>\n",
       "      <td>&lt;!doctype html&gt;\\r&lt;html lang=\"pt-br\"&gt; &lt;head&gt; &lt;b...</td>\n",
       "      <td>0.918538</td>\n",
       "      <td>True</td>\n",
       "      <td>True</td>\n",
       "    </tr>\n",
       "    <tr>\n",
       "      <th>68</th>\n",
       "      <td>drshapefranquias.com.br</td>\n",
       "      <td>&lt;!DOCTYPE html&gt;\\n&lt;html lang=\"pt\"&gt;\\n&lt;head&gt;\\n&lt;me...</td>\n",
       "      <td>0.914787</td>\n",
       "      <td>True</td>\n",
       "      <td>True</td>\n",
       "    </tr>\n",
       "    <tr>\n",
       "      <th>25</th>\n",
       "      <td>duallecomercial.com.br</td>\n",
       "      <td>\\n&lt;!DOCTYPE html&gt;\\n&lt;html lang=\"pt-BR\"&gt;\\n&lt;head&gt;...</td>\n",
       "      <td>0.904042</td>\n",
       "      <td>True</td>\n",
       "      <td>True</td>\n",
       "    </tr>\n",
       "  </tbody>\n",
       "</table>\n",
       "</div>"
      ],
      "text/plain": [
       "                        domain  \\\n",
       "5             ecobotica.com.br   \n",
       "57  chocolatariagramado.com.br   \n",
       "28       drogariadrogan.com.br   \n",
       "36              phonefy.com.br   \n",
       "0            ecocystore.com.br   \n",
       "59             placalcd.com.br   \n",
       "94              gravura.art.br   \n",
       "7         pisoautopecas.com.br   \n",
       "68     drshapefranquias.com.br   \n",
       "25      duallecomercial.com.br   \n",
       "\n",
       "                                                 html  probability  \\\n",
       "5   <!doctype html>\\n<html lang=\"pt-br\" data-netze...     0.979259   \n",
       "57  \\n\\n<!DOCTYPE html>\\n<html lang=\"pt-BR\" xmlns=...     0.964406   \n",
       "28  <!doctype html><html\\nlang=\"pt\"><head >  <meta...     0.957640   \n",
       "36  <!doctype html>\\n<html lang=\"pt-br\" data-tray-...     0.953499   \n",
       "0   <!doctype html><html lang=\"pt-br\" data-files=\"...     0.931612   \n",
       "59  \\r\\n\\r\\n<!DOCTYPE html>\\r\\n<html lang=\"pt-BR\">...     0.930749   \n",
       "94  \\n\\n<!DOCTYPE html>\\n<html lang=\"pt-BR\" xmlns=...     0.920472   \n",
       "7   <!doctype html>\\r<html lang=\"pt-br\"> <head> <b...     0.918538   \n",
       "68  <!DOCTYPE html>\\n<html lang=\"pt\">\\n<head>\\n<me...     0.914787   \n",
       "25  \\n<!DOCTYPE html>\\n<html lang=\"pt-BR\">\\n<head>...     0.904042   \n",
       "\n",
       "    prediction  hand_check  \n",
       "5         True        True  \n",
       "57        True        True  \n",
       "28        True        True  \n",
       "36        True        True  \n",
       "0         True        True  \n",
       "59        True        True  \n",
       "94        True        True  \n",
       "7         True        True  \n",
       "68        True        True  \n",
       "25        True        True  "
      ]
     },
     "execution_count": 62,
     "metadata": {},
     "output_type": "execute_result"
    }
   ],
   "source": [
    "print(len(df_val2_pd.loc[df_val2_pd['probability'] >= 0.9]))\n",
    "df_val2_pd.loc[df_val2_pd['probability'] >= 0.9]"
   ]
  },
  {
   "cell_type": "code",
   "execution_count": null,
   "metadata": {},
   "outputs": [
    {
     "name": "stderr",
     "output_type": "stream",
     "text": [
      "24/06/17 20:12:40 WARN BasicWriteTaskStatsTracker: Expected 1 files, but only saw 0. This could be due to the output format not writing empty files, or files being not immediately visible in the filesystem.\n",
      "24/06/17 20:12:40 ERROR TaskContextImpl: Error in TaskCompletionListener\n",
      "org.apache.spark.SparkException: Block broadcast_20 does not exist\n",
      "\tat org.apache.spark.errors.SparkCoreErrors$.blockDoesNotExistError(SparkCoreErrors.scala:318)\n",
      "\tat org.apache.spark.storage.BlockInfoManager.blockInfo(BlockInfoManager.scala:269)\n",
      "\tat org.apache.spark.storage.BlockInfoManager.unlock(BlockInfoManager.scala:390)\n",
      "\tat org.apache.spark.storage.BlockManager.releaseLock(BlockManager.scala:1309)\n",
      "\tat org.apache.spark.broadcast.TorrentBroadcast.$anonfun$releaseBlockManagerLock$1(TorrentBroadcast.scala:319)\n",
      "\tat org.apache.spark.broadcast.TorrentBroadcast.$anonfun$releaseBlockManagerLock$1$adapted(TorrentBroadcast.scala:319)\n",
      "\tat org.apache.spark.TaskContext$$anon$1.onTaskCompletion(TaskContext.scala:137)\n",
      "\tat org.apache.spark.TaskContextImpl.$anonfun$invokeTaskCompletionListeners$1(TaskContextImpl.scala:144)\n",
      "\tat org.apache.spark.TaskContextImpl.$anonfun$invokeTaskCompletionListeners$1$adapted(TaskContextImpl.scala:144)\n",
      "\tat org.apache.spark.TaskContextImpl.invokeListeners(TaskContextImpl.scala:199)\n",
      "\tat org.apache.spark.TaskContextImpl.invokeTaskCompletionListeners(TaskContextImpl.scala:144)\n",
      "\tat org.apache.spark.TaskContextImpl.markTaskCompleted(TaskContextImpl.scala:137)\n",
      "\tat org.apache.spark.TaskContext.runTaskWithListeners(TaskContext.scala:185)\n",
      "\tat org.apache.spark.scheduler.Task.run(Task.scala:141)\n",
      "\tat org.apache.spark.executor.Executor$TaskRunner.$anonfun$run$4(Executor.scala:620)\n",
      "\tat org.apache.spark.util.SparkErrorUtils.tryWithSafeFinally(SparkErrorUtils.scala:64)\n",
      "\tat org.apache.spark.util.SparkErrorUtils.tryWithSafeFinally$(SparkErrorUtils.scala:61)\n",
      "\tat org.apache.spark.util.Utils$.tryWithSafeFinally(Utils.scala:94)\n",
      "\tat org.apache.spark.executor.Executor$TaskRunner.run(Executor.scala:623)\n",
      "\tat java.util.concurrent.ThreadPoolExecutor.runWorker(ThreadPoolExecutor.java:1149)\n",
      "\tat java.util.concurrent.ThreadPoolExecutor$Worker.run(ThreadPoolExecutor.java:624)\n",
      "\tat java.lang.Thread.run(Thread.java:750)\n",
      "24/06/17 20:12:40 ERROR TaskContextImpl: Error in TaskCompletionListener\n",
      "org.apache.spark.SparkException: Block broadcast_21 does not exist\n",
      "\tat org.apache.spark.errors.SparkCoreErrors$.blockDoesNotExistError(SparkCoreErrors.scala:318)\n",
      "\tat org.apache.spark.storage.BlockInfoManager.blockInfo(BlockInfoManager.scala:269)\n",
      "\tat org.apache.spark.storage.BlockInfoManager.unlock(BlockInfoManager.scala:390)\n",
      "\tat org.apache.spark.storage.BlockManager.releaseLock(BlockManager.scala:1309)\n",
      "\tat org.apache.spark.broadcast.TorrentBroadcast.$anonfun$releaseBlockManagerLock$1(TorrentBroadcast.scala:319)\n",
      "\tat org.apache.spark.broadcast.TorrentBroadcast.$anonfun$releaseBlockManagerLock$1$adapted(TorrentBroadcast.scala:319)\n",
      "\tat org.apache.spark.TaskContext$$anon$1.onTaskCompletion(TaskContext.scala:137)\n",
      "\tat org.apache.spark.TaskContextImpl.$anonfun$invokeTaskCompletionListeners$1(TaskContextImpl.scala:144)\n",
      "\tat org.apache.spark.TaskContextImpl.$anonfun$invokeTaskCompletionListeners$1$adapted(TaskContextImpl.scala:144)\n",
      "\tat org.apache.spark.TaskContextImpl.invokeListeners(TaskContextImpl.scala:199)\n",
      "\tat org.apache.spark.TaskContextImpl.invokeTaskCompletionListeners(TaskContextImpl.scala:144)\n",
      "\tat org.apache.spark.TaskContextImpl.markTaskCompleted(TaskContextImpl.scala:137)\n",
      "\tat org.apache.spark.TaskContext.runTaskWithListeners(TaskContext.scala:185)\n",
      "\tat org.apache.spark.scheduler.Task.run(Task.scala:141)\n",
      "\tat org.apache.spark.executor.Executor$TaskRunner.$anonfun$run$4(Executor.scala:620)\n",
      "\tat org.apache.spark.util.SparkErrorUtils.tryWithSafeFinally(SparkErrorUtils.scala:64)\n",
      "\tat org.apache.spark.util.SparkErrorUtils.tryWithSafeFinally$(SparkErrorUtils.scala:61)\n",
      "\tat org.apache.spark.util.Utils$.tryWithSafeFinally(Utils.scala:94)\n",
      "\tat org.apache.spark.executor.Executor$TaskRunner.run(Executor.scala:623)\n",
      "\tat java.util.concurrent.ThreadPoolExecutor.runWorker(ThreadPoolExecutor.java:1149)\n",
      "\tat java.util.concurrent.ThreadPoolExecutor$Worker.run(ThreadPoolExecutor.java:624)\n",
      "\tat java.lang.Thread.run(Thread.java:750)\n",
      "24/06/17 20:12:40 ERROR Executor: Exception in task 0.0 in stage 12.0 (TID 1195): Exception 0: Block broadcast_20 does not exist\n",
      "Exception 1: Block broadcast_21 does not exist\n"
     ]
    }
   ],
   "source": [
    "df_val2_pd.to_csv('../data/hand_checked_with_predictions.csv',index=False)"
   ]
  },
  {
   "cell_type": "code",
   "execution_count": null,
   "metadata": {},
   "outputs": [],
   "source": [
    "# df_val2.coalesce(1).write.csv('../data/hand_checked_with_predictions.csv', header=True, mode='overwrite')"
   ]
  },
  {
   "cell_type": "code",
   "execution_count": null,
   "metadata": {},
   "outputs": [],
   "source": [
    "spark.stop()"
   ]
  },
  {
   "cell_type": "code",
   "execution_count": null,
   "metadata": {},
   "outputs": [],
   "source": [
    "df_val1 = pd.read_csv('../data/ecommerce_predicao.csv').drop(columns='prediction')\n",
    "df_val2 = pd.read_csv('../data/ecommerce_s3_manual.csv').drop(columns='prediction')\n",
    "df_val3 = pd.read_csv('../data/ecommerces_conferidos.csv')"
   ]
  },
  {
   "cell_type": "code",
   "execution_count": null,
   "metadata": {},
   "outputs": [],
   "source": [
    "df_val1"
   ]
  },
  {
   "cell_type": "code",
   "execution_count": null,
   "metadata": {},
   "outputs": [],
   "source": [
    "df_val2"
   ]
  },
  {
   "cell_type": "code",
   "execution_count": null,
   "metadata": {},
   "outputs": [],
   "source": [
    "df_val3"
   ]
  },
  {
   "cell_type": "code",
   "execution_count": null,
   "metadata": {},
   "outputs": [],
   "source": [
    "df_val = pd.concat([df_val1, df_val2, df_val3])\n",
    "df_val = df_val.drop_duplicates()"
   ]
  },
  {
   "cell_type": "code",
   "execution_count": null,
   "metadata": {},
   "outputs": [],
   "source": [
    "print(len(df_val))\n",
    "df_val['manual_prediction'].value_counts()"
   ]
  },
  {
   "cell_type": "code",
   "execution_count": null,
   "metadata": {},
   "outputs": [],
   "source": [
    "df_val['domain'].nunique()"
   ]
  },
  {
   "cell_type": "code",
   "execution_count": null,
   "metadata": {},
   "outputs": [],
   "source": [
    "df_val['domain'][df_val['domain'].duplicated()].values[0]"
   ]
  },
  {
   "cell_type": "code",
   "execution_count": null,
   "metadata": {},
   "outputs": [],
   "source": [
    "df_val.loc[df_val['domain'] == 'apimentou.com.br']"
   ]
  },
  {
   "cell_type": "code",
   "execution_count": null,
   "metadata": {},
   "outputs": [],
   "source": [
    "df_results  = pd.read_parquet('../data/countries_filtered_with_predictions/')"
   ]
  },
  {
   "cell_type": "code",
   "execution_count": null,
   "metadata": {},
   "outputs": [],
   "source": [
    "# Pandas to Spark\n",
    "# df_sp = spark_session.createDataFrame(df_pd)"
   ]
  },
  {
   "cell_type": "markdown",
   "metadata": {},
   "source": [
    "# Plotagem de gráficos e análises de intervalos"
   ]
  },
  {
   "cell_type": "code",
   "execution_count": null,
   "metadata": {},
   "outputs": [
    {
     "name": "stderr",
     "output_type": "stream",
     "text": [
      "                                                                                \r"
     ]
    },
    {
     "data": {
      "text/html": [
       "<table border='1'>\n",
       "<tr><th>domain</th><th>html</th><th>probability</th><th>prediction</th></tr>\n",
       "<tr><td>soundyradiocomunicacao.com.br</td><td>&lt;!DOCTYPE html PUBLIC &quot;-//W3C//DTD XHTML 1.0 Transitional//EN&quot; &quot;http://www.w3.org/TR/xhtml1/DTD/x...</td><td>0.9373333739898461</td><td>true</td></tr>\n",
       "<tr><td>sousastore.com.br</td><td>\\n&lt;!DOCTYPE html&gt;\\n&lt;html lang=&quot;pt-BR&quot;&gt;\\n&lt;head&gt;&lt;link rel=&quot;preconnect&quot; href=&quot;https://www.google-ana...</td><td>0.8966318881848547</td><td>true</td></tr>\n",
       "<tr><td>spcitymarathon.com.br</td><td>&lt;!DOCTYPE html&gt;&lt;html lang=&quot;pt-BR&quot;&gt;&lt;head&gt;&lt;script async=&quot;&quot; src=&quot;https://www.googletagmanager.com/gt...</td><td>0.4864493903821492</td><td>false</td></tr>\n",
       "<tr><td>speedmax.net.br</td><td>&lt;!DOCTYPE html&gt;\\n&lt;html lang=&quot;pt-br&quot;&gt;\\n\\n&lt;meta http-equiv=&quot;content-type&quot; content=&quot;text/html;charse...</td><td>0.4225964163679047</td><td>false</td></tr>\n",
       "<tr><td>speedyeletronicos.com.br</td><td>&lt;!DOCTYPE html&gt;\\n&lt;html lang=&quot;pt-br&quot;&gt;\\n    &lt;head&gt;\\n        &lt;meta name=&quot;google-site-verification&quot; c...</td><td>0.9991110605258878</td><td>true</td></tr>\n",
       "<tr><td>spiritshirt.com.br</td><td>&lt;!DOCTYPE html&gt;\\n&lt;html lang=&quot;pt-br&quot;&gt;\\n  &lt;head prefix=&quot;og: http://ogp.me/ns# fb: http://ogp.me/ns/...</td><td>0.9965746432661945</td><td>true</td></tr>\n",
       "<tr><td>spookies.com.br</td><td> &lt;!doctype html&gt;&lt;html data-theme=&quot;&quot; data-store=&quot;926736&quot; class=&quot;page-home&quot;&gt;&lt;head&gt;&lt;!-- tray meta an...</td><td>0.9939447292512708</td><td>true</td></tr>\n",
       "<tr><td>spnetinternet.com.br</td><td>&lt;!DOCTYPE html&gt;&lt;html lang=&quot;en-US&quot; itemscope itemtype=&quot;http://schema.org/WebPage&quot;&gt;&lt;head&gt;&lt;meta char...</td><td>0.5951066505215652</td><td>true</td></tr>\n",
       "<tr><td>sportfood.com.br</td><td>&lt;!DOCTYPE html&gt;&lt;html dir=&quot;ltr&quot; lang=&quot;pt-BR&quot; prefix=&quot;og: https://ogp.me/ns#&quot;&gt;&lt;head&gt;&lt;meta charset=&quot;...</td><td>0.4502625478435959</td><td>false</td></tr>\n",
       "<tr><td>spvans.com.br</td><td>\\n&lt;!DOCTYPE html&gt;\\n&lt;html lang=&quot;pt-BR&quot;&gt;\\n&lt;head&gt;&lt;link rel=&quot;preconnect&quot; href=&quot;https://www.google-ana...</td><td>0.992330885621158</td><td>true</td></tr>\n",
       "<tr><td>squema.com.br</td><td>&lt;!DOCTYPE html&gt;\\n&lt;html lang=&quot;pt-BR&quot;&gt;\\n&lt;head&gt;\\n\\t&lt;meta charset=&quot;UTF-8&quot; /&gt;\\n&lt;meta http-equiv=&quot;X-UA-...</td><td>0.8134626683585996</td><td>true</td></tr>\n",
       "<tr><td>srbto.com.br</td><td>&lt;!DOCTYPE html&gt;\\n&lt;html lang=&quot;pt-BR&quot;&gt;\\n&lt;head&gt;\\n\\t&lt;meta charset=&quot;UTF-8&quot;&gt;\\n\\t\\t&lt;title&gt;SRB 2023 &amp;#821...</td><td>0.43820981777604046</td><td>false</td></tr>\n",
       "<tr><td>srsilvaimobiliaria.com.br</td><td>&lt;!DOCTYPE html&gt;\\n&lt;html lang=&quot;en&quot;&gt;\\n\\n&lt;head&gt;\\n    &lt;meta charset=&quot;utf-8&quot;&gt;\\n    &lt;meta http-equiv=&quot;X-...</td><td>0.0018145320385905602</td><td>false</td></tr>\n",
       "<tr><td>sscorretores.com.br</td><td>&lt;!DOCTYPE html PUBLIC &quot;-//W3C//DTD XHTML 1.0 Transitional//EN&quot; &quot;http://www.w3.org/TR/xhtml1/DTD/x...</td><td>8.14610471338748E-4</td><td>false</td></tr>\n",
       "<tr><td>sslibertese.com.br</td><td>&lt;!DOCTYPE html&gt;\\n&lt;html lang=&quot;pt-BR&quot;&gt;\\n&lt;head&gt;\\n\\t&lt;meta charset=&quot;UTF-8&quot;&gt;\\n\\t&lt;link rel=&quot;profile&quot; hre...</td><td>0.999617441572865</td><td>true</td></tr>\n",
       "<tr><td>ssmultimarcas.com.br</td><td>&lt;!DOCTYPE html&gt;\\n&lt;html lang=&quot;pt-br&quot;&gt;\\n&lt;head&gt;\\n&lt;meta charset=&quot;utf-8&quot;&gt;\\n&lt;meta http-equiv=&quot;X-UA-Comp...</td><td>0.6121673880779204</td><td>true</td></tr>\n",
       "<tr><td>cstecmg.com.br</td><td>\\t&lt;!DOCTYPE html&gt;\\n\\t&lt;html xmlns=&quot;http://www.w3.org/1999/xhtml&quot; xmlns:fb=&quot;http://www.facebook.com...</td><td>0.9605461396880787</td><td>true</td></tr>\n",
       "<tr><td>curadores.com.br</td><td>&lt;!DOCTYPE html&gt;&lt;html lang=&quot;pt-BR&quot;&gt;&lt;head&gt;&lt;script data-no-optimize=&quot;1&quot;&gt;var litespeed_docref=session...</td><td>0.8579211637782284</td><td>true</td></tr>\n",
       "<tr><td>curadalma.com.br</td><td>&lt;!DOCTYPE html&gt;\\n&lt;html lang=&quot;pt-BR&quot;&gt;\\n&lt;head&gt;\\n\\t&lt;meta charset=&quot;UTF-8&quot;&gt;\\n\\t&lt;title&gt;Cura da Alma &amp;#8...</td><td>0.4922282635642697</td><td>false</td></tr>\n",
       "<tr><td>curitibanaimoveis.com.br</td><td>&lt;!doctype html&gt;\\n&lt;html lang=&quot;pt-BR&quot;&gt;\\n&lt;head&gt;\\n\\t&lt;meta charset=&quot;UTF-8&quot;&gt;\\n\\t&lt;meta name=&quot;viewport&quot; c...</td><td>6.74532194637861E-4</td><td>false</td></tr>\n",
       "</table>\n",
       "only showing top 20 rows\n"
      ],
      "text/plain": [
       "+-----------------------------+----------------------------------------------------------------------------------------------------+---------------------+----------+\n",
       "|                       domain|                                                                                                html|          probability|prediction|\n",
       "+-----------------------------+----------------------------------------------------------------------------------------------------+---------------------+----------+\n",
       "|soundyradiocomunicacao.com.br|<!DOCTYPE html PUBLIC \"-//W3C//DTD XHTML 1.0 Transitional//EN\" \"http://www.w3.org/TR/xhtml1/DTD/x...|   0.9373333739898461|      true|\n",
       "|            sousastore.com.br|\\n<!DOCTYPE html>\\n<html lang=\"pt-BR\">\\n<head><link rel=\"preconnect\" href=\"https://www.google-ana...|   0.8966318881848547|      true|\n",
       "|        spcitymarathon.com.br|<!DOCTYPE html><html lang=\"pt-BR\"><head><script async=\"\" src=\"https://www.googletagmanager.com/gt...|   0.4864493903821492|     false|\n",
       "|              speedmax.net.br|<!DOCTYPE html>\\n<html lang=\"pt-br\">\\n\\n<meta http-equiv=\"content-type\" content=\"text/html;charse...|   0.4225964163679047|     false|\n",
       "|     speedyeletronicos.com.br|<!DOCTYPE html>\\n<html lang=\"pt-br\">\\n    <head>\\n        <meta name=\"google-site-verification\" c...|   0.9991110605258878|      true|\n",
       "|           spiritshirt.com.br|<!DOCTYPE html>\\n<html lang=\"pt-br\">\\n  <head prefix=\"og: http://ogp.me/ns# fb: http://ogp.me/ns/...|   0.9965746432661945|      true|\n",
       "|              spookies.com.br| <!doctype html><html data-theme=\"\" data-store=\"926736\" class=\"page-home\"><head><!-- tray meta an...|   0.9939447292512708|      true|\n",
       "|         spnetinternet.com.br|<!DOCTYPE html><html lang=\"en-US\" itemscope itemtype=\"http://schema.org/WebPage\"><head><meta char...|   0.5951066505215652|      true|\n",
       "|             sportfood.com.br|<!DOCTYPE html><html dir=\"ltr\" lang=\"pt-BR\" prefix=\"og: https://ogp.me/ns#\"><head><meta charset=\"...|   0.4502625478435959|     false|\n",
       "|                spvans.com.br|\\n<!DOCTYPE html>\\n<html lang=\"pt-BR\">\\n<head><link rel=\"preconnect\" href=\"https://www.google-ana...|    0.992330885621158|      true|\n",
       "|                squema.com.br|<!DOCTYPE html>\\n<html lang=\"pt-BR\">\\n<head>\\n\\t<meta charset=\"UTF-8\" />\\n<meta http-equiv=\"X-UA-...|   0.8134626683585996|      true|\n",
       "|                 srbto.com.br|<!DOCTYPE html>\\n<html lang=\"pt-BR\">\\n<head>\\n\\t<meta charset=\"UTF-8\">\\n\\t\\t<title>SRB 2023 &#821...|  0.43820981777604046|     false|\n",
       "|    srsilvaimobiliaria.com.br|<!DOCTYPE html>\\n<html lang=\"en\">\\n\\n<head>\\n    <meta charset=\"utf-8\">\\n    <meta http-equiv=\"X-...|0.0018145320385905602|     false|\n",
       "|          sscorretores.com.br|<!DOCTYPE html PUBLIC \"-//W3C//DTD XHTML 1.0 Transitional//EN\" \"http://www.w3.org/TR/xhtml1/DTD/x...|  8.14610471338748E-4|     false|\n",
       "|           sslibertese.com.br|<!DOCTYPE html>\\n<html lang=\"pt-BR\">\\n<head>\\n\\t<meta charset=\"UTF-8\">\\n\\t<link rel=\"profile\" hre...|    0.999617441572865|      true|\n",
       "|         ssmultimarcas.com.br|<!DOCTYPE html>\\n<html lang=\"pt-br\">\\n<head>\\n<meta charset=\"utf-8\">\\n<meta http-equiv=\"X-UA-Comp...|   0.6121673880779204|      true|\n",
       "|               cstecmg.com.br|\\t<!DOCTYPE html>\\n\\t<html xmlns=\"http://www.w3.org/1999/xhtml\" xmlns:fb=\"http://www.facebook.com...|   0.9605461396880787|      true|\n",
       "|             curadores.com.br|<!DOCTYPE html><html lang=\"pt-BR\"><head><script data-no-optimize=\"1\">var litespeed_docref=session...|   0.8579211637782284|      true|\n",
       "|             curadalma.com.br|<!DOCTYPE html>\\n<html lang=\"pt-BR\">\\n<head>\\n\\t<meta charset=\"UTF-8\">\\n\\t<title>Cura da Alma &#8...|   0.4922282635642697|     false|\n",
       "|     curitibanaimoveis.com.br|<!doctype html>\\n<html lang=\"pt-BR\">\\n<head>\\n\\t<meta charset=\"UTF-8\">\\n\\t<meta name=\"viewport\" c...|  6.74532194637861E-4|     false|\n",
       "+-----------------------------+----------------------------------------------------------------------------------------------------+---------------------+----------+\n",
       "only showing top 20 rows"
      ]
     },
     "execution_count": 4,
     "metadata": {},
     "output_type": "execute_result"
    }
   ],
   "source": [
    "RESULTS = \"../data/countries_filtered_with_predictions_v1\"\n",
    "df_results = spark.read.parquet(RESULTS)\n",
    "df_results"
   ]
  },
  {
   "cell_type": "code",
   "execution_count": 5,
   "metadata": {},
   "outputs": [],
   "source": [
    "from pyspark.sql.window import Window\n",
    "from pyspark.sql.functions import row_number, desc\n",
    "\n",
    "window = Window.partitionBy(\"domain\").orderBy(desc(\"probability\"))\n",
    "\n",
    "df = df_results.withColumn(\"row_number\", row_number().over(window))\n",
    "\n",
    "df_results = df.filter(df[\"row_number\"] == 1)"
   ]
  },
  {
   "cell_type": "code",
   "execution_count": 26,
   "metadata": {},
   "outputs": [
    {
     "name": "stderr",
     "output_type": "stream",
     "text": [
      "                                                                                \r"
     ]
    },
    {
     "data": {
      "text/html": [
       "<table border='1'>\n",
       "<tr><th>domain</th><th>html</th><th>probability</th><th>prediction</th><th>row_number</th></tr>\n",
       "<tr><td>12himoveis.com.br</td><td>&lt;!DOCTYPE html&gt;\\n&lt;html lang=&quot;pt-br&quot;&gt;\\n&lt;head&gt;\\n    &lt;meta name=&quot;viewport&quot; content=&quot;width=device-wid...</td><td>4.115445307488433E-4</td><td>false</td><td>1</td></tr>\n",
       "<tr><td>152motos.com.br</td><td>&lt;!DOCTYPE html&gt;\\n&lt;html class=&quot;light-style layout-menu-fixed&quot; data-theme=&quot;theme-default&quot; data-asse...</td><td>0.9384209013029485</td><td>true</td><td>1</td></tr>\n",
       "<tr><td>4docstorage.com.br</td><td>&lt;!DOCTYPE html&gt;&lt;html lang=&quot;pt-BR&quot;&gt;&lt;head&gt;&lt;meta charSet=&quot;utf-8&quot;/&gt;&lt;meta http-equiv=&quot;X-UA-Compatible&quot;...</td><td>0.27088907115096733</td><td>false</td><td>1</td></tr>\n",
       "<tr><td>4pdecor.com.br</td><td>\\n&lt;!DOCTYPE html&gt;\\n&lt;html lang=&quot;pt-BR&quot;&gt;\\n&lt;head&gt;&lt;link rel=&quot;preconnect&quot; href=&quot;https://www.google-ana...</td><td>0.9979077593148687</td><td>true</td><td>1</td></tr>\n",
       "<tr><td>56ferramentas.com.br</td><td>\\n&lt;!DOCTYPE html&gt;\\n&lt;html lang=&quot;pt-BR&quot;&gt;\\n&lt;head&gt;&lt;link rel=&quot;preconnect&quot; href=&quot;https://www.google-ana...</td><td>0.9980139042638274</td><td>true</td><td>1</td></tr>\n",
       "<tr><td>7seteplus.com.br</td><td>\\r\\n\\r\\n\\r\\n&lt;!-- builder --&gt;\\r\\n&lt;!DOCTYPE html&gt;&lt;html lang='pt-BR'&gt;&lt;head&gt;&lt;meta property=&quot;og:locale...</td><td>0.32355936016147113</td><td>false</td><td>1</td></tr>\n",
       "<tr><td>a2fomento.com.br</td><td>&lt;!-- saved from url=(0022)http://internet.e-mail --&gt;\\r\\n&lt;!DOCTYPE html PUBLIC &quot;-//W3C//DTD HTML 4...</td><td>0.4763039553378671</td><td>false</td><td>1</td></tr>\n",
       "<tr><td>abastece.com.br</td><td>&lt;!doctype html&gt;\\n\\n&lt;html class=&quot;no-js&quot; lang=&quot;pt-BR&quot;&gt;\\n  &lt;head&gt;&lt;script src='//www.abastece.com.br/...</td><td>0.9864395502964798</td><td>true</td><td>1</td></tr>\n",
       "<tr><td>abelhudo.com.br</td><td>&lt;html&gt;\\n\\n\\n\\n&lt;head&gt;&lt;meta http-equiv=&quot;Content-Type&quot; content=&quot;text/html; charset=windows-1252&quot;&gt;\\n\\...</td><td>0.14883236896399168</td><td>false</td><td>1</td></tr>\n",
       "<tr><td>abeta.com.br</td><td>&lt;!DOCTYPE HTML&gt;\\n&lt;html lang=&quot;pt-br&quot;&gt;\\n&lt;head&gt;\\n    &lt;meta charset=&quot;UTF-8&quot;&gt;\\n\\n                    &lt;...</td><td>0.9993473642500711</td><td>true</td><td>1</td></tr>\n",
       "<tr><td>abilityimoveis.com.br</td><td>&lt;!DOCTYPE html&gt;&lt;html lang=&quot;pt-br&quot;&gt;&lt;head&gt;&lt;meta charSet=&quot;utf-8&quot;/&gt;&lt;meta name=&quot;viewport&quot; content=&quot;wid...</td><td>0.09816463544109578</td><td>false</td><td>1</td></tr>\n",
       "<tr><td>abrahub.com.br</td><td>&lt;!doctype html&gt;&lt;html lang=&quot;pt-BR&quot;&gt;&lt;head&gt;&lt;meta charset=&quot;utf-8&quot;/&gt;&lt;meta name=&quot;viewport&quot; content=&quot;wid...</td><td>0.47589751503029426</td><td>false</td><td>1</td></tr>\n",
       "<tr><td>absolutmag.com.br</td><td>&lt;!DOCTYPE html&gt;\\n\\n\\n&lt;html lang=&quot;pt-BR&quot; prefix=&quot;og: http://ogp.me/ns#&quot;&gt;\\n&lt;head&gt;\\n&lt;link rel=&quot;short...</td><td>0.6977852604277559</td><td>true</td><td>1</td></tr>\n",
       "<tr><td>acasa.net.br</td><td>&lt;!DOCTYPE html&gt;\\n&lt;html lang=&quot;pt&quot;&gt;\\n&lt;head&gt;\\n  \\n  &lt;meta charset='utf-8'&gt;\\n  &lt;meta name=&quot;viewport&quot; ...</td><td>0.9993126156111596</td><td>true</td><td>1</td></tr>\n",
       "<tr><td>acessofidelidade.com.br</td><td>\\r\\n&lt;!DOCTYPE html&gt;\\r\\n\\r\\n&lt;html lang=&quot;pt-br&quot;&gt;\\r\\n&lt;head&gt;&lt;meta http-equiv=&quot;Content-Type&quot; content=&quot;...</td><td>0.4575608817886877</td><td>false</td><td>1</td></tr>\n",
       "<tr><td>aciaga.com.br</td><td>&lt;!DOCTYPE html&gt;\\n&lt;html lang=&quot;en-US&quot; xml:lang=&quot;en-US&quot;&gt;\\n&lt;head&gt;\\n\\t&lt;meta name=&quot;viewport&quot; content=&quot;w...</td><td>0.40366972477064217</td><td>false</td><td>1</td></tr>\n",
       "<tr><td>acidentadosassisbrasil.com.br</td><td>&lt;!DOCTYPE html&gt;&lt;html lang=&quot;pt-BR&quot;&gt;&lt;head&gt;&lt;meta charset=&quot;UTF-8&quot; /&gt;&lt;link rel=&quot;preconnect&quot; href=&quot;http...</td><td>0.4049601402055537</td><td>false</td><td>1</td></tr>\n",
       "<tr><td>acoflex.com.br</td><td>&lt;!doctype html&gt;\\n&lt;html lang=&quot;pt-BR&quot;&gt;\\n&lt;head&gt;\\n    &lt;meta name=&quot;viewport&quot; content=&quot;width=device-wid...</td><td>0.5779123020248911</td><td>true</td><td>1</td></tr>\n",
       "<tr><td>acttionbrindes.com.br</td><td>&lt;!DOCTYPE html&gt;\\r\\n&lt;html lang=&quot;pt-br&quot; id=&quot;html&quot;&gt;\\r\\n\\t&lt;head&gt;\\r\\n        &lt;!-- Seo --&gt;\\r\\n        &lt;...</td><td>0.98933685114517</td><td>true</td><td>1</td></tr>\n",
       "<tr><td>adesivosdiletra.com.br</td><td>&lt;!DOCTYPE html&gt;\\n&lt;html lang=&quot;en-US&quot;&gt;\\n&lt;head&gt;\\n\\t&lt;meta charset=&quot;UTF-8&quot; /&gt;\\n&lt;meta http-equiv=&quot;X-UA-...</td><td>0.7667151057640267</td><td>true</td><td>1</td></tr>\n",
       "</table>\n",
       "only showing top 20 rows\n"
      ],
      "text/plain": [
       "+-----------------------------+----------------------------------------------------------------------------------------------------+--------------------+----------+----------+\n",
       "|                       domain|                                                                                                html|         probability|prediction|row_number|\n",
       "+-----------------------------+----------------------------------------------------------------------------------------------------+--------------------+----------+----------+\n",
       "|            12himoveis.com.br|<!DOCTYPE html>\\n<html lang=\"pt-br\">\\n<head>\\n    <meta name=\"viewport\" content=\"width=device-wid...|4.115445307488433E-4|     false|         1|\n",
       "|              152motos.com.br|<!DOCTYPE html>\\n<html class=\"light-style layout-menu-fixed\" data-theme=\"theme-default\" data-asse...|  0.9384209013029485|      true|         1|\n",
       "|           4docstorage.com.br|<!DOCTYPE html><html lang=\"pt-BR\"><head><meta charSet=\"utf-8\"/><meta http-equiv=\"X-UA-Compatible\"...| 0.27088907115096733|     false|         1|\n",
       "|               4pdecor.com.br|\\n<!DOCTYPE html>\\n<html lang=\"pt-BR\">\\n<head><link rel=\"preconnect\" href=\"https://www.google-ana...|  0.9979077593148687|      true|         1|\n",
       "|         56ferramentas.com.br|\\n<!DOCTYPE html>\\n<html lang=\"pt-BR\">\\n<head><link rel=\"preconnect\" href=\"https://www.google-ana...|  0.9980139042638274|      true|         1|\n",
       "|             7seteplus.com.br|\\r\\n\\r\\n\\r\\n<!-- builder -->\\r\\n<!DOCTYPE html><html lang='pt-BR'><head><meta property=\"og:locale...| 0.32355936016147113|     false|         1|\n",
       "|             a2fomento.com.br|<!-- saved from url=(0022)http://internet.e-mail -->\\r\\n<!DOCTYPE html PUBLIC \"-//W3C//DTD HTML 4...|  0.4763039553378671|     false|         1|\n",
       "|              abastece.com.br|<!doctype html>\\n\\n<html class=\"no-js\" lang=\"pt-BR\">\\n  <head><script src='//www.abastece.com.br/...|  0.9864395502964798|      true|         1|\n",
       "|              abelhudo.com.br|<html>\\n\\n\\n\\n<head><meta http-equiv=\"Content-Type\" content=\"text/html; charset=windows-1252\">\\n\\...| 0.14883236896399168|     false|         1|\n",
       "|                 abeta.com.br|<!DOCTYPE HTML>\\n<html lang=\"pt-br\">\\n<head>\\n    <meta charset=\"UTF-8\">\\n\\n                    <...|  0.9993473642500711|      true|         1|\n",
       "|        abilityimoveis.com.br|<!DOCTYPE html><html lang=\"pt-br\"><head><meta charSet=\"utf-8\"/><meta name=\"viewport\" content=\"wid...| 0.09816463544109578|     false|         1|\n",
       "|               abrahub.com.br|<!doctype html><html lang=\"pt-BR\"><head><meta charset=\"utf-8\"/><meta name=\"viewport\" content=\"wid...| 0.47589751503029426|     false|         1|\n",
       "|            absolutmag.com.br|<!DOCTYPE html>\\n\\n\\n<html lang=\"pt-BR\" prefix=\"og: http://ogp.me/ns#\">\\n<head>\\n<link rel=\"short...|  0.6977852604277559|      true|         1|\n",
       "|                 acasa.net.br|<!DOCTYPE html>\\n<html lang=\"pt\">\\n<head>\\n  \\n  <meta charset='utf-8'>\\n  <meta name=\"viewport\" ...|  0.9993126156111596|      true|         1|\n",
       "|      acessofidelidade.com.br|\\r\\n<!DOCTYPE html>\\r\\n\\r\\n<html lang=\"pt-br\">\\r\\n<head><meta http-equiv=\"Content-Type\" content=\"...|  0.4575608817886877|     false|         1|\n",
       "|                aciaga.com.br|<!DOCTYPE html>\\n<html lang=\"en-US\" xml:lang=\"en-US\">\\n<head>\\n\\t<meta name=\"viewport\" content=\"w...| 0.40366972477064217|     false|         1|\n",
       "|acidentadosassisbrasil.com.br|<!DOCTYPE html><html lang=\"pt-BR\"><head><meta charset=\"UTF-8\" /><link rel=\"preconnect\" href=\"http...|  0.4049601402055537|     false|         1|\n",
       "|               acoflex.com.br|<!doctype html>\\n<html lang=\"pt-BR\">\\n<head>\\n    <meta name=\"viewport\" content=\"width=device-wid...|  0.5779123020248911|      true|         1|\n",
       "|        acttionbrindes.com.br|<!DOCTYPE html>\\r\\n<html lang=\"pt-br\" id=\"html\">\\r\\n\\t<head>\\r\\n        <!-- Seo -->\\r\\n        <...|    0.98933685114517|      true|         1|\n",
       "|       adesivosdiletra.com.br|<!DOCTYPE html>\\n<html lang=\"en-US\">\\n<head>\\n\\t<meta charset=\"UTF-8\" />\\n<meta http-equiv=\"X-UA-...|  0.7667151057640267|      true|         1|\n",
       "+-----------------------------+----------------------------------------------------------------------------------------------------+--------------------+----------+----------+\n",
       "only showing top 20 rows"
      ]
     },
     "execution_count": 26,
     "metadata": {},
     "output_type": "execute_result"
    }
   ],
   "source": [
    "df_results"
   ]
  },
  {
   "cell_type": "code",
   "execution_count": 7,
   "metadata": {},
   "outputs": [
    {
     "name": "stderr",
     "output_type": "stream",
     "text": [
      "[Stage 6:======================================================>(199 + 1) / 200]\r"
     ]
    },
    {
     "name": "stdout",
     "output_type": "stream",
     "text": [
      "There are 1 duplicate rows in the DataFrame.\n"
     ]
    },
    {
     "name": "stderr",
     "output_type": "stream",
     "text": [
      "                                                                                \r"
     ]
    }
   ],
   "source": [
    "original_count = df_results.count()\n",
    "\n",
    "\n",
    "distinct_df = df_results.distinct()\n",
    "distinct_count = distinct_df.count()\n",
    "\n",
    "if original_count > distinct_count:\n",
    "    print(f\"There are {original_count - distinct_count} duplicate rows in the DataFrame.\")\n",
    "else:\n",
    "    print(\"There are no duplicate rows in the DataFrame.\")"
   ]
  },
  {
   "cell_type": "code",
   "execution_count": 31,
   "metadata": {},
   "outputs": [
    {
     "name": "stderr",
     "output_type": "stream",
     "text": [
      "                                                                                \r"
     ]
    }
   ],
   "source": [
    "count_high_probability = df_results.filter(df_results['probability'] > 0.5).count()\n",
    "true_predict = df_results.filter(df_results['prediction'] == 'true')\n",
    "#true_predict.count()"
   ]
  },
  {
   "cell_type": "code",
   "execution_count": 9,
   "metadata": {},
   "outputs": [
    {
     "name": "stderr",
     "output_type": "stream",
     "text": [
      "                                                                                \r"
     ]
    }
   ],
   "source": [
    "df_results.show(300, truncate=False)"
   ]
  },
  {
   "cell_type": "code",
   "execution_count": 19,
   "metadata": {},
   "outputs": [
    {
     "name": "stderr",
     "output_type": "stream",
     "text": [
      "[Stage 63:======================================================> (39 + 1) / 40]\r"
     ]
    },
    {
     "name": "stdout",
     "output_type": "stream",
     "text": [
      "5956\n"
     ]
    },
    {
     "name": "stderr",
     "output_type": "stream",
     "text": [
      "                                                                                \r"
     ]
    }
   ],
   "source": [
    "from pyspark.sql.functions import col\n",
    "\n",
    "# Filter the DataFrame\n",
    "filtered_df = df_results.filter(col(\"domain\").rlike(\"^(imobil|imoveis)\"))\n",
    "\n",
    "count = filtered_df.count()\n",
    "\n",
    "# Save the filtered DataFrame to a Parquet file with overwrite mode\n",
    "filtered_df.write.mode(\"overwrite\").parquet(\"accounting_website_classifier/data/imobil/filtered_domains_imobil.parquet\")\n"
   ]
  },
  {
   "cell_type": "code",
   "execution_count": 11,
   "metadata": {},
   "outputs": [
    {
     "name": "stdout",
     "output_type": "stream",
     "text": [
      "(0.0, 0.1)\n",
      "sampling...\n",
      "filtering...\n",
      "counting...\n"
     ]
    },
    {
     "name": "stderr",
     "output_type": "stream",
     "text": [
      "                                                                                \r"
     ]
    },
    {
     "name": "stdout",
     "output_type": "stream",
     "text": [
      "sampling...\n",
      "limiting...\n",
      "converting...\n"
     ]
    },
    {
     "name": "stderr",
     "output_type": "stream",
     "text": [
      "                                                                                \r"
     ]
    },
    {
     "name": "stdout",
     "output_type": "stream",
     "text": [
      "concat...\n",
      "(0.1, 0.2)\n",
      "sampling...\n",
      "filtering...\n",
      "counting...\n"
     ]
    },
    {
     "name": "stderr",
     "output_type": "stream",
     "text": [
      "                                                                                \r"
     ]
    },
    {
     "name": "stdout",
     "output_type": "stream",
     "text": [
      "sampling...\n",
      "limiting...\n",
      "converting...\n"
     ]
    },
    {
     "name": "stderr",
     "output_type": "stream",
     "text": [
      "                                                                                \r"
     ]
    },
    {
     "name": "stdout",
     "output_type": "stream",
     "text": [
      "concat...\n",
      "(0.2, 0.3)\n",
      "sampling...\n",
      "filtering...\n",
      "counting...\n"
     ]
    },
    {
     "name": "stderr",
     "output_type": "stream",
     "text": [
      "                                                                                \r"
     ]
    },
    {
     "name": "stdout",
     "output_type": "stream",
     "text": [
      "sampling...\n",
      "limiting...\n",
      "converting...\n"
     ]
    },
    {
     "name": "stderr",
     "output_type": "stream",
     "text": [
      "                                                                                \r"
     ]
    },
    {
     "name": "stdout",
     "output_type": "stream",
     "text": [
      "concat...\n",
      "(0.3, 0.4)\n",
      "sampling...\n",
      "filtering...\n",
      "counting...\n"
     ]
    },
    {
     "name": "stderr",
     "output_type": "stream",
     "text": [
      "                                                                                \r"
     ]
    },
    {
     "name": "stdout",
     "output_type": "stream",
     "text": [
      "sampling...\n",
      "limiting...\n",
      "converting...\n"
     ]
    },
    {
     "name": "stderr",
     "output_type": "stream",
     "text": [
      "                                                                                \r"
     ]
    },
    {
     "name": "stdout",
     "output_type": "stream",
     "text": [
      "concat...\n",
      "(0.4, 0.5)\n",
      "sampling...\n",
      "filtering...\n",
      "counting...\n",
      "sampling...\n",
      "limiting...\n",
      "converting...\n"
     ]
    },
    {
     "name": "stderr",
     "output_type": "stream",
     "text": [
      "                                                                                \r"
     ]
    },
    {
     "name": "stdout",
     "output_type": "stream",
     "text": [
      "concat...\n",
      "(0.5, 0.6)\n",
      "sampling...\n",
      "filtering...\n",
      "counting...\n",
      "sampling...\n",
      "limiting...\n",
      "converting...\n"
     ]
    },
    {
     "name": "stderr",
     "output_type": "stream",
     "text": [
      "                                                                                \r"
     ]
    },
    {
     "name": "stdout",
     "output_type": "stream",
     "text": [
      "concat...\n",
      "(0.6, 0.7)\n",
      "sampling...\n",
      "filtering...\n",
      "counting...\n"
     ]
    },
    {
     "name": "stderr",
     "output_type": "stream",
     "text": [
      "                                                                                \r"
     ]
    },
    {
     "name": "stdout",
     "output_type": "stream",
     "text": [
      "sampling...\n",
      "limiting...\n",
      "converting...\n"
     ]
    },
    {
     "name": "stderr",
     "output_type": "stream",
     "text": [
      "                                                                                \r"
     ]
    },
    {
     "name": "stdout",
     "output_type": "stream",
     "text": [
      "concat...\n",
      "(0.7, 0.8)\n",
      "sampling...\n",
      "filtering...\n",
      "counting...\n",
      "sampling...\n",
      "limiting...\n",
      "converting...\n"
     ]
    },
    {
     "name": "stderr",
     "output_type": "stream",
     "text": [
      "                                                                                \r"
     ]
    },
    {
     "name": "stdout",
     "output_type": "stream",
     "text": [
      "concat...\n",
      "(0.8, 0.9)\n",
      "sampling...\n",
      "filtering...\n",
      "counting...\n",
      "sampling...\n",
      "limiting...\n",
      "converting...\n"
     ]
    },
    {
     "name": "stderr",
     "output_type": "stream",
     "text": [
      "                                                                                \r"
     ]
    },
    {
     "name": "stdout",
     "output_type": "stream",
     "text": [
      "concat...\n",
      "(0.9, 1.0)\n",
      "sampling...\n",
      "filtering...\n",
      "counting...\n"
     ]
    },
    {
     "name": "stderr",
     "output_type": "stream",
     "text": [
      "                                                                                \r"
     ]
    },
    {
     "name": "stdout",
     "output_type": "stream",
     "text": [
      "sampling...\n",
      "limiting...\n",
      "converting...\n"
     ]
    },
    {
     "name": "stderr",
     "output_type": "stream",
     "text": [
      "[Stage 60:=====================================================>(248 + 1) / 249]\r"
     ]
    },
    {
     "name": "stdout",
     "output_type": "stream",
     "text": [
      "concat...\n"
     ]
    },
    {
     "name": "stderr",
     "output_type": "stream",
     "text": [
      "                                                                                \r"
     ]
    }
   ],
   "source": [
    "import pyspark.sql.functions as F\n",
    "\n",
    "def get_sample(df, sample_size, seed, interval_start, interval_end):\n",
    "    print('filtering...')\n",
    "    df = df.filter(F.col('probability').between(interval_start, interval_end))\n",
    "    print('counting...')\n",
    "    count = df.count()\n",
    "    if count > sample_size:\n",
    "        fraction = sample_size / count\n",
    "        print('sampling...')\n",
    "        df_sample = df.sample(withReplacement=False, fraction=fraction * 1.5, seed=seed)  \n",
    "        print('limiting...')\n",
    "        df_sample = df_sample.limit(sample_size)\n",
    "    else:\n",
    "        df_sample = df\n",
    "    return df_sample\n",
    "\n",
    "intervals = [\n",
    "    (0.0, 0.1),\n",
    "    (0.1, 0.2),\n",
    "    (0.2, 0.3),\n",
    "    (0.3, 0.4),\n",
    "    (0.4, 0.5),\n",
    "    (0.5, 0.6),\n",
    "    (0.6, 0.7),\n",
    "    (0.7, 0.8),\n",
    "    (0.8, 0.9),\n",
    "    (0.9, 1.0)\n",
    "]\n",
    "\n",
    "df_final = pd.DataFrame()\n",
    "sample_size = 30\n",
    "seed = 42\n",
    "\n",
    "for interval in intervals:\n",
    "    print(interval)\n",
    "    inicio, fim = interval\n",
    "    print('sampling...')\n",
    "    subset = get_sample(df_results, sample_size, seed, inicio, fim)\n",
    "    print('converting...')\n",
    "    subset_pd = subset.toPandas()\n",
    "    print('concat...')\n",
    "    df_final = pd.concat([df_final, subset_pd])"
   ]
  },
  {
   "cell_type": "code",
   "execution_count": 14,
   "metadata": {},
   "outputs": [],
   "source": [
    "df_final = df_final[[\"domain\", \"probability\", \"prediction\"]]\n",
    "df_final = df_final.sort_values(by='probability', ascending=False)\n",
    "df_final.to_csv('../data/ecommerce/countries_predictions_sample.csv',index=False)"
   ]
  },
  {
   "cell_type": "code",
   "execution_count": null,
   "metadata": {},
   "outputs": [],
   "source": []
  },
  {
   "cell_type": "code",
   "execution_count": 25,
   "metadata": {},
   "outputs": [],
   "source": [
    "df_final.to_csv('accounting_website_classifier/data/imobil/imobil_sample.csv',index=False)\n"
   ]
  },
  {
   "cell_type": "code",
   "execution_count": 18,
   "metadata": {},
   "outputs": [
    {
     "name": "stderr",
     "output_type": "stream",
     "text": [
      "                                                                                \r"
     ]
    },
    {
     "data": {
      "text/html": [
       "<table border='1'>\n",
       "<tr><th>domain</th><th>probability</th></tr>\n",
       "<tr><td>imobiliariacolombo.com.br</td><td>0.8384046557262185</td></tr>\n",
       "<tr><td>imobiliariabonfim.com.br</td><td>0.809035612375474</td></tr>\n",
       "<tr><td>imobiliariabeta.com.br</td><td>0.7865350199584549</td></tr>\n",
       "<tr><td>imobiliariaencantare.com.br</td><td>0.9086620221138487</td></tr>\n",
       "<tr><td>imobiliariafariabg.com.br</td><td>0.9853196258285603</td></tr>\n",
       "<tr><td>imobiliariaceleste.com.br</td><td>0.8662031906015968</td></tr>\n",
       "<tr><td>imobiliariacorrea.com.br</td><td>0.8869726267585384</td></tr>\n",
       "<tr><td>imobiliariadahora.com.br</td><td>0.7028595079584751</td></tr>\n",
       "<tr><td>imobiliariahit.com.br</td><td>0.6708471166454089</td></tr>\n",
       "<tr><td>imobiliariagomesalcantara.com.br</td><td>0.9006552242952894</td></tr>\n",
       "<tr><td>imobiliariajunqueira.com.br</td><td>0.8043056176150681</td></tr>\n",
       "<tr><td>imobiliariamarcosmoreira.com.br</td><td>0.6990683271718114</td></tr>\n",
       "<tr><td>imobiliariaitapora.com.br</td><td>0.7366044550151414</td></tr>\n",
       "<tr><td>imobiliariajacobus.com.br</td><td>0.6045571395447498</td></tr>\n",
       "<tr><td>imobiliariamartini.com.br</td><td>0.7879529479818107</td></tr>\n",
       "<tr><td>imobiliariamedeiros.com.br</td><td>0.9765539003059374</td></tr>\n",
       "<tr><td>imobiliariamalufi.com.br</td><td>0.7836791673336457</td></tr>\n",
       "<tr><td>imobiliariaresplendor.com.br</td><td>0.8776143797403179</td></tr>\n",
       "<tr><td>imobiliariasantoantonio.com.br</td><td>0.9787147325576617</td></tr>\n",
       "<tr><td>imobilypatrimonial.com.br</td><td>0.6219833904901345</td></tr>\n",
       "</table>\n",
       "only showing top 20 rows\n"
      ],
      "text/plain": [
       "+--------------------------------+------------------+\n",
       "|                          domain|       probability|\n",
       "+--------------------------------+------------------+\n",
       "|       imobiliariacolombo.com.br|0.8384046557262185|\n",
       "|        imobiliariabonfim.com.br| 0.809035612375474|\n",
       "|          imobiliariabeta.com.br|0.7865350199584549|\n",
       "|     imobiliariaencantare.com.br|0.9086620221138487|\n",
       "|       imobiliariafariabg.com.br|0.9853196258285603|\n",
       "|       imobiliariaceleste.com.br|0.8662031906015968|\n",
       "|        imobiliariacorrea.com.br|0.8869726267585384|\n",
       "|        imobiliariadahora.com.br|0.7028595079584751|\n",
       "|           imobiliariahit.com.br|0.6708471166454089|\n",
       "|imobiliariagomesalcantara.com.br|0.9006552242952894|\n",
       "|     imobiliariajunqueira.com.br|0.8043056176150681|\n",
       "| imobiliariamarcosmoreira.com.br|0.6990683271718114|\n",
       "|       imobiliariaitapora.com.br|0.7366044550151414|\n",
       "|       imobiliariajacobus.com.br|0.6045571395447498|\n",
       "|       imobiliariamartini.com.br|0.7879529479818107|\n",
       "|      imobiliariamedeiros.com.br|0.9765539003059374|\n",
       "|        imobiliariamalufi.com.br|0.7836791673336457|\n",
       "|    imobiliariaresplendor.com.br|0.8776143797403179|\n",
       "|  imobiliariasantoantonio.com.br|0.9787147325576617|\n",
       "|       imobilypatrimonial.com.br|0.6219833904901345|\n",
       "+--------------------------------+------------------+\n",
       "only showing top 20 rows"
      ]
     },
     "execution_count": 18,
     "metadata": {},
     "output_type": "execute_result"
    }
   ],
   "source": [
    "filtered_df"
   ]
  },
  {
   "cell_type": "code",
   "execution_count": 32,
   "metadata": {},
   "outputs": [
    {
     "name": "stderr",
     "output_type": "stream",
     "text": [
      "Current mem limits: 75161927680 of max 75161927680========>    (229 + 20) / 249]\n",
      "\n",
      "Current mem limits: 75161927680 of max 75161927680\n",
      "\n",
      "Current mem limits: 75161927680 of max 75161927680\n",
      "\n",
      "Current mem limits: 75161927680 of max 75161927680\n",
      "\n",
      "Current mem limits: 75161927680 of max 75161927680\n",
      "\n",
      "Current mem limits: 75161927680 of max 75161927680\n",
      "\n",
      "Current mem limits: 75161927680 of max 75161927680\n",
      "\n",
      "Current mem limits: 75161927680 of max 75161927680\n",
      "\n",
      "Current mem limits: 75161927680 of max 75161927680\n",
      "\n",
      "Current mem limits: 75161927680 of max 75161927680\n",
      "\n",
      "Current mem limits: 75161927680 of max 75161927680\n",
      "\n",
      "Current mem limits: 75161927680 of max 75161927680\n",
      "\n",
      "Current mem limits: 75161927680 of max 75161927680\n",
      "\n",
      "Current mem limits: 75161927680 of max 75161927680\n",
      "\n",
      "Current mem limits: 75161927680 of max 75161927680\n",
      "\n",
      "                                                                                \r"
     ]
    },
    {
     "data": {
      "image/png": "[encoded data removed]",
      "text/plain": [
       "<Figure size 640x480 with 1 Axes>"
      ]
     },
     "metadata": {},
     "output_type": "display_data"
    }
   ],
   "source": [
    "import matplotlib.pyplot as plt\n",
    "\n",
    "probability_data = true_predict.select('probability').rdd.flatMap(lambda x: x).collect()\n",
    "\n",
    "plt.hist(probability_data, bins=10, alpha=0.75)\n",
    "plt.title('Histogram of Probability')\n",
    "plt.xlabel('Probability')\n",
    "plt.ylabel('Frequency')\n",
    "plt.grid(True)\n",
    "plt.show()"
   ]
  },
  {
   "cell_type": "code",
   "execution_count": 7,
   "metadata": {},
   "outputs": [
    {
     "name": "stderr",
     "output_type": "stream",
     "text": [
      "/tmp/ipykernel_3683467/2960443069.py:6: FutureWarning:                          \n",
      "\n",
      "`shade` is now deprecated in favor of `fill`; setting `fill=True`.\n",
      "This will become an error in seaborn v0.14.0; please update your code.\n",
      "\n",
      "  sns.kdeplot(probability_data, shade=True)\n"
     ]
    },
    {
     "data": {
      "image/png": "[encoded data removed]",
      "text/plain": [
       "<Figure size 640x480 with 1 Axes>"
      ]
     },
     "metadata": {},
     "output_type": "display_data"
    }
   ],
   "source": [
    "import seaborn as sns\n",
    "import matplotlib.pyplot as plt\n",
    "\n",
    "probability_data = df_results.select('probability').toPandas()['probability']\n",
    "\n",
    "sns.kdeplot(probability_data, shade=True)\n",
    "plt.title('Density Plot of Probability')\n",
    "plt.xlabel('Probability')\n",
    "plt.ylabel('Density')\n",
    "plt.show()"
   ]
  },
  {
   "cell_type": "code",
   "execution_count": 24,
   "metadata": {},
   "outputs": [
    {
     "name": "stderr",
     "output_type": "stream",
     "text": [
      "                                                                                \r"
     ]
    },
    {
     "data": {
      "text/html": [
       "<table border='1'>\n",
       "<tr><th>domain</th><th>html</th><th>probability</th><th>prediction</th></tr>\n",
       "<tr><td>minicarveiculos.com.br</td><td>&lt;!DOCTYPE HTML&gt;\\n&lt;html lang=&quot;pt-br&quot;&gt;\\n&lt;head&gt;\\n    &lt;meta charset=&quot;UTF-8&quot;&gt;\\n\\n                    &lt;...</td><td>0.9963919477554694</td><td>true</td></tr>\n",
       "<tr><td>lotusautomoveis.com.br</td><td>&lt;!DOCTYPE html&gt;\\n&lt;html lang=&quot;pt&quot;&gt;\\n&lt;head&gt;\\n  \\n  &lt;meta charset='utf-8'&gt;\\n  &lt;meta name=&quot;viewport&quot; ...</td><td>0.9909523916292284</td><td>true</td></tr>\n",
       "<tr><td>carvalhoveiculosrs.com.br</td><td>&lt;!doctype html&gt;\\r\\n&lt;html lang=&quot;pt&quot;&gt;\\r\\n&lt;head&gt;\\r\\n    &lt;!-- Required meta tags --&gt;\\r\\n    &lt;meta cha...</td><td>0.9882405283051917</td><td>true</td></tr>\n",
       "<tr><td>carvalhoveiculosrs.com.br</td><td>&lt;!doctype html&gt;\\r\\n&lt;html lang=&quot;pt&quot;&gt;\\r\\n&lt;head&gt;\\r\\n    &lt;!-- Required meta tags --&gt;\\r\\n    &lt;meta cha...</td><td>0.9882405283051917</td><td>true</td></tr>\n",
       "<tr><td>marmottaveiculos.com.br</td><td>&lt;!DOCTYPE html&gt;\\n&lt;html lang=&quot;pt&quot;&gt;\\n&lt;head&gt;\\n  \\n  &lt;meta charset='utf-8'&gt;\\n  &lt;meta name=&quot;viewport&quot; ...</td><td>0.9839371885984873</td><td>true</td></tr>\n",
       "<tr><td>bolsadeautomoveisguacu.com.br</td><td>&lt;!DOCTYPE html&gt;\\n&lt;html class=&quot;light-style layout-menu-fixed&quot; data-theme=&quot;theme-default&quot; data-asse...</td><td>0.978596212745487</td><td>true</td></tr>\n",
       "<tr><td>bolsadeautomoveisguacu.com.br</td><td>&lt;!DOCTYPE html&gt;\\n&lt;html class=&quot;light-style layout-menu-fixed&quot; data-theme=&quot;theme-default&quot; data-asse...</td><td>0.978596212745487</td><td>true</td></tr>\n",
       "<tr><td>bolsadeautomoveisguacu.com.br</td><td>&lt;!DOCTYPE html&gt;\\n&lt;html class=&quot;light-style layout-menu-fixed&quot; data-theme=&quot;theme-default&quot; data-asse...</td><td>0.978596212745487</td><td>true</td></tr>\n",
       "<tr><td>bolsadeautomoveisguacu.com.br</td><td>&lt;!DOCTYPE html&gt;\\n&lt;html class=&quot;light-style layout-menu-fixed&quot; data-theme=&quot;theme-default&quot; data-asse...</td><td>0.978596212745487</td><td>true</td></tr>\n",
       "<tr><td>portaldosveiculoseletricos.com.br</td><td>&lt;!doctype html&gt;\\r\\n&lt;html dir=&quot;ltr&quot; lang=&quot;pt-BR&quot;&gt;\\r\\n&lt;!--Slider Revolution--&gt;\\r\\n\\t&lt;!--[if lt IE 7...</td><td>0.9731110004795513</td><td>true</td></tr>\n",
       "<tr><td>dmcautomoveis.com.br</td><td>&lt;!DOCTYPE html&gt;\\n&lt;html lang=&quot;pt&quot;&gt;\\n&lt;head&gt;\\n  \\n  &lt;meta charset='utf-8'&gt;\\n  &lt;meta name=&quot;viewport&quot; ...</td><td>0.9680015903637547</td><td>true</td></tr>\n",
       "<tr><td>realeautomoveis.com.br</td><td>&lt;!DOCTYPE html&gt;\\n&lt;html class=&quot;light-style layout-menu-fixed&quot; data-theme=&quot;theme-default&quot; data-asse...</td><td>0.9664683355228342</td><td>true</td></tr>\n",
       "<tr><td>realeautomoveis.com.br</td><td>&lt;!DOCTYPE html&gt;\\n&lt;html class=&quot;light-style layout-menu-fixed&quot; data-theme=&quot;theme-default&quot; data-asse...</td><td>0.9664683355228342</td><td>true</td></tr>\n",
       "<tr><td>realeautomoveis.com.br</td><td>&lt;!DOCTYPE html&gt;\\n&lt;html class=&quot;light-style layout-menu-fixed&quot; data-theme=&quot;theme-default&quot; data-asse...</td><td>0.9664683355228342</td><td>true</td></tr>\n",
       "<tr><td>realeautomoveis.com.br</td><td>&lt;!DOCTYPE html&gt;\\n&lt;html class=&quot;light-style layout-menu-fixed&quot; data-theme=&quot;theme-default&quot; data-asse...</td><td>0.9664683355228342</td><td>true</td></tr>\n",
       "<tr><td>pipoveiculos.com.br</td><td>&lt;!DOCTYPE html PUBLIC &quot;-//W3C//DTD XHTML 1.0 Transitional//EN&quot; &quot;http://www.w3.org/TR/xhtml1/DTD/x...</td><td>0.963658180284535</td><td>true</td></tr>\n",
       "<tr><td>pipoveiculos.com.br</td><td>&lt;!DOCTYPE html PUBLIC &quot;-//W3C//DTD XHTML 1.0 Transitional//EN&quot; &quot;http://www.w3.org/TR/xhtml1/DTD/x...</td><td>0.963658180284535</td><td>true</td></tr>\n",
       "<tr><td>centralveiculosmogi.com.br</td><td>&lt;!DOCTYPE html&gt;\\n&lt;html class=&quot;light-style layout-menu-fixed&quot; data-theme=&quot;theme-default&quot; data-asse...</td><td>0.9631586186791085</td><td>true</td></tr>\n",
       "<tr><td>centralveiculosmogi.com.br</td><td>&lt;!DOCTYPE html&gt;\\n&lt;html class=&quot;light-style layout-menu-fixed&quot; data-theme=&quot;theme-default&quot; data-asse...</td><td>0.9631586186791085</td><td>true</td></tr>\n",
       "<tr><td>centralveiculosmogi.com.br</td><td>&lt;!DOCTYPE html&gt;\\n&lt;html class=&quot;light-style layout-menu-fixed&quot; data-theme=&quot;theme-default&quot; data-asse...</td><td>0.9631586186791085</td><td>true</td></tr>\n",
       "</table>\n",
       "only showing top 20 rows\n"
      ],
      "text/plain": [
       "+---------------------------------+----------------------------------------------------------------------------------------------------+------------------+----------+\n",
       "|                           domain|                                                                                                html|       probability|prediction|\n",
       "+---------------------------------+----------------------------------------------------------------------------------------------------+------------------+----------+\n",
       "|           minicarveiculos.com.br|<!DOCTYPE HTML>\\n<html lang=\"pt-br\">\\n<head>\\n    <meta charset=\"UTF-8\">\\n\\n                    <...|0.9963919477554694|      true|\n",
       "|           lotusautomoveis.com.br|<!DOCTYPE html>\\n<html lang=\"pt\">\\n<head>\\n  \\n  <meta charset='utf-8'>\\n  <meta name=\"viewport\" ...|0.9909523916292284|      true|\n",
       "|        carvalhoveiculosrs.com.br|<!doctype html>\\r\\n<html lang=\"pt\">\\r\\n<head>\\r\\n    <!-- Required meta tags -->\\r\\n    <meta cha...|0.9882405283051917|      true|\n",
       "|        carvalhoveiculosrs.com.br|<!doctype html>\\r\\n<html lang=\"pt\">\\r\\n<head>\\r\\n    <!-- Required meta tags -->\\r\\n    <meta cha...|0.9882405283051917|      true|\n",
       "|          marmottaveiculos.com.br|<!DOCTYPE html>\\n<html lang=\"pt\">\\n<head>\\n  \\n  <meta charset='utf-8'>\\n  <meta name=\"viewport\" ...|0.9839371885984873|      true|\n",
       "|    bolsadeautomoveisguacu.com.br|<!DOCTYPE html>\\n<html class=\"light-style layout-menu-fixed\" data-theme=\"theme-default\" data-asse...| 0.978596212745487|      true|\n",
       "|    bolsadeautomoveisguacu.com.br|<!DOCTYPE html>\\n<html class=\"light-style layout-menu-fixed\" data-theme=\"theme-default\" data-asse...| 0.978596212745487|      true|\n",
       "|    bolsadeautomoveisguacu.com.br|<!DOCTYPE html>\\n<html class=\"light-style layout-menu-fixed\" data-theme=\"theme-default\" data-asse...| 0.978596212745487|      true|\n",
       "|    bolsadeautomoveisguacu.com.br|<!DOCTYPE html>\\n<html class=\"light-style layout-menu-fixed\" data-theme=\"theme-default\" data-asse...| 0.978596212745487|      true|\n",
       "|portaldosveiculoseletricos.com.br|<!doctype html>\\r\\n<html dir=\"ltr\" lang=\"pt-BR\">\\r\\n<!--Slider Revolution-->\\r\\n\\t<!--[if lt IE 7...|0.9731110004795513|      true|\n",
       "|             dmcautomoveis.com.br|<!DOCTYPE html>\\n<html lang=\"pt\">\\n<head>\\n  \\n  <meta charset='utf-8'>\\n  <meta name=\"viewport\" ...|0.9680015903637547|      true|\n",
       "|           realeautomoveis.com.br|<!DOCTYPE html>\\n<html class=\"light-style layout-menu-fixed\" data-theme=\"theme-default\" data-asse...|0.9664683355228342|      true|\n",
       "|           realeautomoveis.com.br|<!DOCTYPE html>\\n<html class=\"light-style layout-menu-fixed\" data-theme=\"theme-default\" data-asse...|0.9664683355228342|      true|\n",
       "|           realeautomoveis.com.br|<!DOCTYPE html>\\n<html class=\"light-style layout-menu-fixed\" data-theme=\"theme-default\" data-asse...|0.9664683355228342|      true|\n",
       "|           realeautomoveis.com.br|<!DOCTYPE html>\\n<html class=\"light-style layout-menu-fixed\" data-theme=\"theme-default\" data-asse...|0.9664683355228342|      true|\n",
       "|              pipoveiculos.com.br|<!DOCTYPE html PUBLIC \"-//W3C//DTD XHTML 1.0 Transitional//EN\" \"http://www.w3.org/TR/xhtml1/DTD/x...| 0.963658180284535|      true|\n",
       "|              pipoveiculos.com.br|<!DOCTYPE html PUBLIC \"-//W3C//DTD XHTML 1.0 Transitional//EN\" \"http://www.w3.org/TR/xhtml1/DTD/x...| 0.963658180284535|      true|\n",
       "|       centralveiculosmogi.com.br|<!DOCTYPE html>\\n<html class=\"light-style layout-menu-fixed\" data-theme=\"theme-default\" data-asse...|0.9631586186791085|      true|\n",
       "|       centralveiculosmogi.com.br|<!DOCTYPE html>\\n<html class=\"light-style layout-menu-fixed\" data-theme=\"theme-default\" data-asse...|0.9631586186791085|      true|\n",
       "|       centralveiculosmogi.com.br|<!DOCTYPE html>\\n<html class=\"light-style layout-menu-fixed\" data-theme=\"theme-default\" data-asse...|0.9631586186791085|      true|\n",
       "+---------------------------------+----------------------------------------------------------------------------------------------------+------------------+----------+\n",
       "only showing top 20 rows"
      ]
     },
     "execution_count": 24,
     "metadata": {},
     "output_type": "execute_result"
    }
   ],
   "source": [
    "keywords = 'veiculos|automoveis'\n",
    "filtered_df = df_results.filter(col('domain').rlike(keywords))\n",
    "filtered_df = filtered_df.orderBy('probability', ascending=False)\n",
    "filtered_df"
   ]
  },
  {
   "cell_type": "markdown",
   "metadata": {},
   "source": [
    "# Join with technologies"
   ]
  },
  {
   "cell_type": "code",
   "execution_count": null,
   "metadata": {},
   "outputs": [
    {
     "name": "stderr",
     "output_type": "stream",
     "text": [
      "                                                                                \r"
     ]
    }
   ],
   "source": [
    "from pyspark.sql.window import Window\n",
    "from pyspark.sql.functions import row_number, desc, lit, coalesce\n",
    "\n",
    "probability_window = Window.partitionBy(\"domain\").orderBy(desc(\"probability\"))\n",
    "\n",
    "df_classification_w_dupes = spark.read.parquet('../data/countries_filtered_with_predictions_v2')\n",
    "\n",
    "df_classification_window = df_classification_w_dupes.withColumn(\"row_number\", row_number().over(probability_window))\n",
    "\n",
    "df_classification = df_classification_window.filter(df_classification_window[\"row_number\"] == 1)\n",
    "df_classification_above_5 = df_classification.filter(df_classification['probability'] > 0.5)\n"
   ]
  },
  {
   "cell_type": "code",
   "execution_count": 4,
   "metadata": {},
   "outputs": [],
   "source": [
    "df_classification_above_5 = df_classification_above_5.drop('row_number').drop('html')\n",
    "\n"
   ]
  },
  {
   "cell_type": "code",
   "execution_count": 5,
   "metadata": {},
   "outputs": [
    {
     "name": "stderr",
     "output_type": "stream",
     "text": [
      "                                                                                \r"
     ]
    }
   ],
   "source": [
    "df_classification_above_5.write.mode('overwrite').parquet(\"accounting_website_classifier/data/ecommerce/classified_ecommerces\")"
   ]
  },
  {
   "cell_type": "code",
   "execution_count": 6,
   "metadata": {},
   "outputs": [
    {
     "data": {
      "text/html": [
       "<table border='1'>\n",
       "<tr><th>domain</th><th>probability</th><th>prediction</th></tr>\n",
       "<tr><td>annaminiaturas.com.br</td><td>0.84603469524954</td><td>true</td></tr>\n",
       "<tr><td>annavivacqua.com.br</td><td>0.9986382539408057</td><td>true</td></tr>\n",
       "<tr><td>anp.com.br</td><td>0.7141561031169529</td><td>true</td></tr>\n",
       "<tr><td>antiestaticos.com.br</td><td>0.8353835241925087</td><td>true</td></tr>\n",
       "<tr><td>anyboy.com.br</td><td>0.9984329152525006</td><td>true</td></tr>\n",
       "<tr><td>anystore.com.br</td><td>0.7215837353334924</td><td>true</td></tr>\n",
       "<tr><td>aocloja.com.br</td><td>0.9647827571196416</td><td>true</td></tr>\n",
       "<tr><td>aondevocefor.com.br</td><td>0.9990827684552835</td><td>true</td></tr>\n",
       "<tr><td>aoss.com.br</td><td>0.662521468450525</td><td>true</td></tr>\n",
       "<tr><td>apersonaliza.com.br</td><td>0.5883556704981344</td><td>true</td></tr>\n",
       "<tr><td>apiariofavodeouro.com.br</td><td>0.9426992292628917</td><td>true</td></tr>\n",
       "<tr><td>apicius.com.br</td><td>0.741888912237555</td><td>true</td></tr>\n",
       "<tr><td>apimentei.com.br</td><td>0.9771121738251518</td><td>true</td></tr>\n",
       "<tr><td>apocalipsye.blogspot.com.br</td><td>0.5065512846469316</td><td>true</td></tr>\n",
       "<tr><td>apoena.net.br</td><td>0.9944430826743403</td><td>true</td></tr>\n",
       "<tr><td>apollouniformes.com.br</td><td>0.5244557049181632</td><td>true</td></tr>\n",
       "<tr><td>apolopisos.com.br</td><td>0.9987030340615337</td><td>true</td></tr>\n",
       "<tr><td>apostilasmartins.com.br</td><td>0.8686174882660704</td><td>true</td></tr>\n",
       "<tr><td>appleservicedf.com.br</td><td>0.7080105087253484</td><td>true</td></tr>\n",
       "<tr><td>applestore.com.br</td><td>0.9005375431909508</td><td>true</td></tr>\n",
       "</table>\n",
       "only showing top 20 rows\n"
      ],
      "text/plain": [
       "+---------------------------+------------------+----------+\n",
       "|                     domain|       probability|prediction|\n",
       "+---------------------------+------------------+----------+\n",
       "|      annaminiaturas.com.br|  0.84603469524954|      true|\n",
       "|        annavivacqua.com.br|0.9986382539408057|      true|\n",
       "|                 anp.com.br|0.7141561031169529|      true|\n",
       "|       antiestaticos.com.br|0.8353835241925087|      true|\n",
       "|              anyboy.com.br|0.9984329152525006|      true|\n",
       "|            anystore.com.br|0.7215837353334924|      true|\n",
       "|             aocloja.com.br|0.9647827571196416|      true|\n",
       "|        aondevocefor.com.br|0.9990827684552835|      true|\n",
       "|                aoss.com.br| 0.662521468450525|      true|\n",
       "|        apersonaliza.com.br|0.5883556704981344|      true|\n",
       "|   apiariofavodeouro.com.br|0.9426992292628917|      true|\n",
       "|             apicius.com.br| 0.741888912237555|      true|\n",
       "|           apimentei.com.br|0.9771121738251518|      true|\n",
       "|apocalipsye.blogspot.com.br|0.5065512846469316|      true|\n",
       "|              apoena.net.br|0.9944430826743403|      true|\n",
       "|     apollouniformes.com.br|0.5244557049181632|      true|\n",
       "|          apolopisos.com.br|0.9987030340615337|      true|\n",
       "|    apostilasmartins.com.br|0.8686174882660704|      true|\n",
       "|      appleservicedf.com.br|0.7080105087253484|      true|\n",
       "|          applestore.com.br|0.9005375431909508|      true|\n",
       "+---------------------------+------------------+----------+\n",
       "only showing top 20 rows"
      ]
     },
     "execution_count": 6,
     "metadata": {},
     "output_type": "execute_result"
    }
   ],
   "source": [
    "test = spark.read.parquet(\"accounting_website_classifier/data/ecommerce/classified_ecommerces.parquet\")\n",
    "test"
   ]
  },
  {
   "cell_type": "code",
   "execution_count": 20,
   "metadata": {},
   "outputs": [
    {
     "name": "stderr",
     "output_type": "stream",
     "text": [
      "                                                                                \r"
     ]
    }
   ],
   "source": [
    "\n"
   ]
  },
  {
   "cell_type": "code",
   "execution_count": 19,
   "metadata": {},
   "outputs": [
    {
     "name": "stderr",
     "output_type": "stream",
     "text": [
      "                                                                                \r"
     ]
    },
    {
     "data": {
      "text/html": [
       "<table border='1'>\n",
       "<tr><th>domain</th><th>probability</th><th>prediction</th></tr>\n",
       "<tr><td>anossadrogaria.com.br</td><td>0.8296209883030932</td><td>true</td></tr>\n",
       "<tr><td>anpara.org.br</td><td>0.6169876846077705</td><td>true</td></tr>\n",
       "<tr><td>antonellafaloni.com.br</td><td>0.9553448317954086</td><td>true</td></tr>\n",
       "<tr><td>antoniafontenelleeyewear.com.br</td><td>0.9653090629607924</td><td>true</td></tr>\n",
       "<tr><td>antoniettastudio.com.br</td><td>0.5566673121734662</td><td>true</td></tr>\n",
       "<tr><td>aoficinacriativa.com.br</td><td>0.8381008390702422</td><td>true</td></tr>\n",
       "<tr><td>aoy.com.br</td><td>0.7309930682570047</td><td>true</td></tr>\n",
       "<tr><td>apbolsasebrindes.com.br</td><td>0.9349363790145111</td><td>true</td></tr>\n",
       "<tr><td>aperio.com.br</td><td>0.9122521968807126</td><td>true</td></tr>\n",
       "<tr><td>apkcomercio.com.br</td><td>0.9472832579308531</td><td>true</td></tr>\n",
       "<tr><td>aplicativomarketing.com.br</td><td>0.5571312911348325</td><td>true</td></tr>\n",
       "<tr><td>apopularoupas.com.br</td><td>0.9968033934525031</td><td>true</td></tr>\n",
       "<tr><td>aqualandia.com.br</td><td>0.8461591023916699</td><td>true</td></tr>\n",
       "<tr><td>aquaproject.com.br</td><td>0.9654630174075476</td><td>true</td></tr>\n",
       "<tr><td>aquarelafashion.com.br</td><td>0.9183850767104909</td><td>true</td></tr>\n",
       "<tr><td>aquarelasuprimentos.com.br</td><td>0.8553914351092299</td><td>true</td></tr>\n",
       "<tr><td>aquarilopa.com.br</td><td>0.9933430350786584</td><td>true</td></tr>\n",
       "<tr><td>aquecelarmg.com.br</td><td>0.6550328925877814</td><td>true</td></tr>\n",
       "<tr><td>aquiemprestimo.com.br</td><td>0.6940532345952578</td><td>true</td></tr>\n",
       "<tr><td>aquinobaterias.com.br</td><td>0.5952314214985784</td><td>true</td></tr>\n",
       "</table>\n",
       "only showing top 20 rows\n"
      ],
      "text/plain": [
       "+-------------------------------+------------------+----------+\n",
       "|                         domain|       probability|prediction|\n",
       "+-------------------------------+------------------+----------+\n",
       "|          anossadrogaria.com.br|0.8296209883030932|      true|\n",
       "|                  anpara.org.br|0.6169876846077705|      true|\n",
       "|         antonellafaloni.com.br|0.9553448317954086|      true|\n",
       "|antoniafontenelleeyewear.com.br|0.9653090629607924|      true|\n",
       "|        antoniettastudio.com.br|0.5566673121734662|      true|\n",
       "|        aoficinacriativa.com.br|0.8381008390702422|      true|\n",
       "|                     aoy.com.br|0.7309930682570047|      true|\n",
       "|        apbolsasebrindes.com.br|0.9349363790145111|      true|\n",
       "|                  aperio.com.br|0.9122521968807126|      true|\n",
       "|             apkcomercio.com.br|0.9472832579308531|      true|\n",
       "|     aplicativomarketing.com.br|0.5571312911348325|      true|\n",
       "|           apopularoupas.com.br|0.9968033934525031|      true|\n",
       "|              aqualandia.com.br|0.8461591023916699|      true|\n",
       "|             aquaproject.com.br|0.9654630174075476|      true|\n",
       "|         aquarelafashion.com.br|0.9183850767104909|      true|\n",
       "|     aquarelasuprimentos.com.br|0.8553914351092299|      true|\n",
       "|              aquarilopa.com.br|0.9933430350786584|      true|\n",
       "|             aquecelarmg.com.br|0.6550328925877814|      true|\n",
       "|          aquiemprestimo.com.br|0.6940532345952578|      true|\n",
       "|          aquinobaterias.com.br|0.5952314214985784|      true|\n",
       "+-------------------------------+------------------+----------+\n",
       "only showing top 20 rows"
      ]
     },
     "execution_count": 19,
     "metadata": {},
     "output_type": "execute_result"
    }
   ],
   "source": [
    "df_classification_above_5"
   ]
  },
  {
   "cell_type": "code",
   "execution_count": 16,
   "metadata": {},
   "outputs": [
    {
     "name": "stderr",
     "output_type": "stream",
     "text": [
      "[Stage 77:==========>(1086 + 27) / 1113][Stage 78:===>              (1 + 5) / 6]\r"
     ]
    },
    {
     "name": "stdout",
     "output_type": "stream",
     "text": [
      "+--------------------+-----------+--------------------+--------------------+-----------------+\n",
      "|              domain|probability|ecommerce_technology|        technologies|total_occurrences|\n",
      "+--------------------+-----------+--------------------+--------------------+-----------------+\n",
      "|     027kicks.com.br|       NULL|           [SHOPIFY]|[CART FUNCTIONALI...|                1|\n",
      "|      14print.com.br|       NULL|       [WOOCOMMERCE]|[JQUERY MIGRATE, ...|                1|\n",
      "|      374pets.com.br|       NULL|           [SHOPIFY]|[SHOPIFY, JQUERY,...|                1|\n",
      "|       3aenge.com.br|       NULL|       [WOOCOMMERCE]|[APACHE, WOOCOMME...|                1|\n",
      "|3dlineprofissiona...|       NULL|       [WOOCOMMERCE]|[LITESPEED, WOOCO...|                1|\n",
      "|     3rimport.com.br|       NULL|       [WOOCOMMERCE]|[JQUERY MIGRATE, ...|                1|\n",
      "|    3stories1.com.br|       NULL|       [WOOCOMMERCE]|[JQUERY, MYSQL, U...|                1|\n",
      "|     3zbrasil.com.br|       NULL|       [WOOCOMMERCE]|[LIGHTBOX, YOAST ...|                1|\n",
      "|40grausnocerrado....|       NULL|       [WOOCOMMERCE]|[PHP, ELEMENTOR, ...|                1|\n",
      "|    4srealestate.com|       NULL|       [WOOCOMMERCE]|[RECAPTCHA, WOOCO...|                1|\n",
      "|        4x4co.com.br|       NULL|       [WOOCOMMERCE]|[ANIMATE.CSS, JSD...|                1|\n",
      "|      7epocas.com.br|       NULL|              [TRAY]|[JQUERY, GOOGLE F...|                1|\n",
      "|        aaeaa.org.br|       NULL|       [WOOCOMMERCE]|[JQUERY, FONT AWE...|                1|\n",
      "|        aaguilera.mx|       NULL|       [WOOCOMMERCE]|[OWL CAROUSEL, HA...|                1|\n",
      "|   aazseguros.com.ar|       NULL|       [WOOCOMMERCE]|[WORDPRESS, JQUER...|                1|\n",
      "|     abastece.com.br|       NULL|           [SHOPIFY]|[ENVOY, CART FUNC...|                1|\n",
      "|abastecimientoind...|       NULL|       [WOOCOMMERCE]|[MYSQL, PHP, JQUE...|                1|\n",
      "|abcesmaltados.com.br|       NULL|       [WOOCOMMERCE]|[MYSQL, GOOGLE FO...|                1|\n",
      "|           abcxyz.mx|       NULL|       [WOOCOMMERCE]|[GOOGLE FONT API,...|                1|\n",
      "|        abiac.com.br|       NULL|        [PRESTASHOP]|[FANCYBOX, BOOTST...|                1|\n",
      "+--------------------+-----------+--------------------+--------------------+-----------------+\n",
      "only showing top 20 rows\n",
      "\n"
     ]
    },
    {
     "name": "stderr",
     "output_type": "stream",
     "text": [
      "                                                                                \r"
     ]
    }
   ],
   "source": [
    "ecommerces_by_technology = spark.read.parquet('../../spider-analysis/ecommerces_by_technology')\n",
    "\n",
    "df_classification_with_source = df_classification.withColumn('source_count_df_classification', lit(1))\n",
    "ecommerces_by_technology_with_source = ecommerces_by_technology.withColumn('source_count_ecommerces', lit(1))\n",
    "\n",
    "joined_df = df_classification_with_source.join(ecommerces_by_technology_with_source, on='domain', how='full')\n",
    "\n",
    "joined_df = joined_df.withColumn('total_occurrences', \n",
    "                                 coalesce(col('source_count_df_classification'), lit(0)) + \n",
    "                                 coalesce(col('source_count_ecommerces'), lit(0)))\n",
    "\n",
    "joined_df = joined_df[['domain', 'probability', 'ecommerce_technology', 'technologies', 'total_occurrences']]\n",
    "joined_df.show()\n"
   ]
  },
  {
   "cell_type": "code",
   "execution_count": 17,
   "metadata": {},
   "outputs": [
    {
     "name": "stderr",
     "output_type": "stream",
     "text": [
      "                                                                                \r"
     ]
    },
    {
     "data": {
      "text/plain": [
       "154313"
      ]
     },
     "execution_count": 17,
     "metadata": {},
     "output_type": "execute_result"
    }
   ],
   "source": [
    "joined_df.count()"
   ]
  },
  {
   "cell_type": "code",
   "execution_count": 21,
   "metadata": {},
   "outputs": [
    {
     "name": "stderr",
     "output_type": "stream",
     "text": [
      "24/07/11 17:53:15 WARN DAGScheduler: Broadcasting large task binary with size 2.0 MiB\n",
      "24/07/11 17:53:18 WARN DAGScheduler: Broadcasting large task binary with size 1076.0 KiB\n",
      "                                                                                \r"
     ]
    }
   ],
   "source": [
    "from pyspark.sql.functions import col, array\n",
    "\n",
    "filtered_df = joined_df.filter(col('ecommerce_technology') != array(lit('[CART FUNCTIONALITY]')))\n",
    "\n",
    "filtered_df.write.parquet('ecommerce_technologies_v2')"
   ]
  },
  {
   "cell_type": "code",
   "execution_count": 22,
   "metadata": {},
   "outputs": [
    {
     "name": "stderr",
     "output_type": "stream",
     "text": [
      "24/07/11 17:53:20 WARN DAGScheduler: Broadcasting large task binary with size 2.0 MiB\n",
      "24/07/11 17:53:23 WARN DAGScheduler: Broadcasting large task binary with size 1075.8 KiB\n",
      "                                                                                \r"
     ]
    },
    {
     "data": {
      "text/plain": [
       "109145"
      ]
     },
     "execution_count": 22,
     "metadata": {},
     "output_type": "execute_result"
    }
   ],
   "source": [
    "filtered_df.count()"
   ]
  },
  {
   "cell_type": "code",
   "execution_count": null,
   "metadata": {},
   "outputs": [],
   "source": []
  }
 ],
 "metadata": {
  "kernelspec": {
   "display_name": "venv",
   "language": "python",
   "name": "python3"
  },
  "language_info": {
   "codemirror_mode": {
    "name": "ipython",
    "version": 3
   },
   "file_extension": ".py",
   "mimetype": "text/x-python",
   "name": "python",
   "nbconvert_exporter": "python",
   "pygments_lexer": "ipython3",
   "version": "3.10.12"
  }
 },
 "nbformat": 4,
 "nbformat_minor": 2
}
